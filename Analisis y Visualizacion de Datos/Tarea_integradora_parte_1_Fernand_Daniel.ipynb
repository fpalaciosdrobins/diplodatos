{
  "nbformat": 4,
  "nbformat_minor": 0,
  "metadata": {
    "colab": {
      "name": "Tarea integradora - parte 1- Fernand Daniel.ipynb",
      "version": "0.3.2",
      "views": {},
      "default_view": {},
      "provenance": []
    },
    "kernelspec": {
      "display_name": "Python [conda env:edm_env]",
      "language": "python",
      "name": "conda-env-edm_env-py"
    }
  },
  "cells": [
    {
      "metadata": {
        "id": "MYWoz7CDLP7N",
        "colab_type": "text"
      },
      "cell_type": "markdown",
      "source": [
        "<center>\n",
        "<h4>Diplomatura AACSyA 2018 - FaMAF - UNC</h4>\n",
        "<h3>Análisis y visualización de datos</h3>\n",
        "</center>\n",
        "\n",
        "# Tarea integradora - Parte 1\n",
        "\n",
        "En esta notebook presentamos una serie de ejercicios para trabajar con variables aleatorias discretas, tanto númericas como cátegoricas, ejemplificando los conceptos de probabilidad explicados en clase. Lo primero es determinar si todas las librerías están correctamente instaladas."
      ]
    },
    {
      "metadata": {
        "id": "NasXeQvALP7Q",
        "colab_type": "code",
        "colab": {
          "autoexec": {
            "startup": false,
            "wait_interval": 0
          }
        }
      },
      "cell_type": "code",
      "source": [
        "# %matplotlib notebook\n",
        "%matplotlib inline\n",
        "import pandas\n",
        "import numpy\n",
        "import seaborn"
      ],
      "execution_count": 0,
      "outputs": []
    },
    {
      "metadata": {
        "id": "tdhrC27GLP7V",
        "colab_type": "code",
        "colab": {
          "autoexec": {
            "startup": false,
            "wait_interval": 0
          }
        }
      },
      "cell_type": "code",
      "source": [
        "seaborn.set_style('whitegrid')\n",
        "seaborn.set_context('talk')"
      ],
      "execution_count": 0,
      "outputs": []
    },
    {
      "metadata": {
        "id": "j_WcRYvBLP7Z",
        "colab_type": "text"
      },
      "cell_type": "markdown",
      "source": [
        "## Cargar el dataset en un dataframe de pandas\n",
        "\n",
        "Los dataframes son tablas con un montón de operaciones ya programadas. Prácticamente todas las funciones de SQL se pueden realizar en pandas con pocas líneas. Además de eso, tiene funciones para leer y escribir archivos en numerosos formatos.\n",
        "\n",
        "Ahora leemos directamente el archivo .csv"
      ]
    },
    {
      "metadata": {
        "id": "WKf4iNNOLP7b",
        "colab_type": "code",
        "colab": {
          "autoexec": {
            "startup": false,
            "wait_interval": 0
          }
        }
      },
      "cell_type": "code",
      "source": [
        "dataset = pandas.read_csv('https://cs.famaf.unc.edu.ar/~mteruel/datasets/diplodatos/violencia-institucional-2018-01.csv',\n",
        "                          encoding='utf8')"
      ],
      "execution_count": 0,
      "outputs": []
    },
    {
      "metadata": {
        "id": "a0kb5U91LP7h",
        "colab_type": "code",
        "colab": {
          "autoexec": {
            "startup": false,
            "wait_interval": 0
          },
          "base_uri": "https://localhost:8080/",
          "height": 332
        },
        "outputId": "c935a67b-5701-45d8-a0be-4d3f771b663c",
        "executionInfo": {
          "status": "ok",
          "timestamp": 1524180586281,
          "user_tz": 180,
          "elapsed": 819,
          "user": {
            "displayName": "Daniel Robins",
            "photoUrl": "//lh4.googleusercontent.com/-yakiBg0B4II/AAAAAAAAAAI/AAAAAAAAUPY/xui5kMqNOAI/s50-c-k-no/photo.jpg",
            "userId": "105626451647226009193"
          }
        }
      },
      "cell_type": "code",
      "source": [
        "dataset[:3]"
      ],
      "execution_count": 12,
      "outputs": [
        {
          "output_type": "execute_result",
          "data": {
            "text/html": [
              "<div>\n",
              "<style scoped>\n",
              "    .dataframe tbody tr th:only-of-type {\n",
              "        vertical-align: middle;\n",
              "    }\n",
              "\n",
              "    .dataframe tbody tr th {\n",
              "        vertical-align: top;\n",
              "    }\n",
              "\n",
              "    .dataframe thead th {\n",
              "        text-align: right;\n",
              "    }\n",
              "</style>\n",
              "<table border=\"1\" class=\"dataframe\">\n",
              "  <thead>\n",
              "    <tr style=\"text-align: right;\">\n",
              "      <th></th>\n",
              "      <th>area</th>\n",
              "      <th>organismo_origen</th>\n",
              "      <th>via_acceso</th>\n",
              "      <th>año</th>\n",
              "      <th>provincia</th>\n",
              "      <th>contexto</th>\n",
              "      <th>contexto1</th>\n",
              "      <th>circunstancia</th>\n",
              "      <th>alojamiento</th>\n",
              "      <th>violencia_fisica</th>\n",
              "      <th>violencia_psiquica</th>\n",
              "      <th>violencia_genero</th>\n",
              "      <th>violencia_salud</th>\n",
              "      <th>resumen_hecho</th>\n",
              "      <th>descripcion_institucion</th>\n",
              "      <th>establecimiento</th>\n",
              "      <th>Unnamed: 16</th>\n",
              "    </tr>\n",
              "  </thead>\n",
              "  <tbody>\n",
              "    <tr>\n",
              "      <th>0</th>\n",
              "      <td>DNPCVI</td>\n",
              "      <td>SECRETARIA DE DDHH</td>\n",
              "      <td>Telefónica</td>\n",
              "      <td>2017,00</td>\n",
              "      <td>Buenos Aires</td>\n",
              "      <td>Situaciones de Detención</td>\n",
              "      <td>Penal / Complejo Penitenciario PROVINCIAL</td>\n",
              "      <td>NaN</td>\n",
              "      <td>NaN</td>\n",
              "      <td>NaN</td>\n",
              "      <td>NaN</td>\n",
              "      <td>NaN</td>\n",
              "      <td>Denegación acceso atención médica</td>\n",
              "      <td>NaN</td>\n",
              "      <td>Servicio Penitenciario Provincial</td>\n",
              "      <td>UPP Nº 13 Junin</td>\n",
              "      <td>NaN</td>\n",
              "    </tr>\n",
              "    <tr>\n",
              "      <th>1</th>\n",
              "      <td>DNPCVI</td>\n",
              "      <td>SECRETARIA DE DDHH</td>\n",
              "      <td>Telefónica</td>\n",
              "      <td>2017,00</td>\n",
              "      <td>Buenos Aires</td>\n",
              "      <td>Situaciones de Detención</td>\n",
              "      <td>Penal / Complejo Penitenciario PROVINCIAL</td>\n",
              "      <td>NaN</td>\n",
              "      <td>Malas condiciones de alojamiento (higiene), Hu...</td>\n",
              "      <td>NaN</td>\n",
              "      <td>NaN</td>\n",
              "      <td>NaN</td>\n",
              "      <td>Denegación acceso atención médica</td>\n",
              "      <td>NaN</td>\n",
              "      <td>Servicio Penitenciario Provincial</td>\n",
              "      <td>UPP Nº 13 DE JUNIN</td>\n",
              "      <td>NaN</td>\n",
              "    </tr>\n",
              "    <tr>\n",
              "      <th>2</th>\n",
              "      <td>DNPCVI</td>\n",
              "      <td>SECRETARIA DE DDHH</td>\n",
              "      <td>Telefónica</td>\n",
              "      <td>2017,00</td>\n",
              "      <td>Buenos Aires</td>\n",
              "      <td>Situaciones de Detención</td>\n",
              "      <td>Penal / Complejo Penitenciario PROVINCIAL</td>\n",
              "      <td>NaN</td>\n",
              "      <td>Malas condiciones de alojamiento (higiene)</td>\n",
              "      <td>NaN</td>\n",
              "      <td>NaN</td>\n",
              "      <td>NaN</td>\n",
              "      <td>NaN</td>\n",
              "      <td>NaN</td>\n",
              "      <td>Servicio Penitenciario Provincial</td>\n",
              "      <td>UPP Nº 36 de Magdalena</td>\n",
              "      <td>NaN</td>\n",
              "    </tr>\n",
              "  </tbody>\n",
              "</table>\n",
              "</div>"
            ],
            "text/plain": [
              "     area    organismo_origen  via_acceso      año     provincia  \\\n",
              "0  DNPCVI  SECRETARIA DE DDHH  Telefónica  2017,00  Buenos Aires   \n",
              "1  DNPCVI  SECRETARIA DE DDHH  Telefónica  2017,00  Buenos Aires   \n",
              "2  DNPCVI  SECRETARIA DE DDHH  Telefónica  2017,00  Buenos Aires   \n",
              "\n",
              "                   contexto                                  contexto1  \\\n",
              "0  Situaciones de Detención  Penal / Complejo Penitenciario PROVINCIAL   \n",
              "1  Situaciones de Detención  Penal / Complejo Penitenciario PROVINCIAL   \n",
              "2  Situaciones de Detención  Penal / Complejo Penitenciario PROVINCIAL   \n",
              "\n",
              "  circunstancia                                        alojamiento  \\\n",
              "0           NaN                                                NaN   \n",
              "1           NaN  Malas condiciones de alojamiento (higiene), Hu...   \n",
              "2           NaN         Malas condiciones de alojamiento (higiene)   \n",
              "\n",
              "  violencia_fisica violencia_psiquica violencia_genero  \\\n",
              "0              NaN                NaN              NaN   \n",
              "1              NaN                NaN              NaN   \n",
              "2              NaN                NaN              NaN   \n",
              "\n",
              "                     violencia_salud  resumen_hecho  \\\n",
              "0  Denegación acceso atención médica            NaN   \n",
              "1  Denegación acceso atención médica            NaN   \n",
              "2                                NaN            NaN   \n",
              "\n",
              "             descripcion_institucion         establecimiento  Unnamed: 16  \n",
              "0  Servicio Penitenciario Provincial         UPP Nº 13 Junin          NaN  \n",
              "1  Servicio Penitenciario Provincial      UPP Nº 13 DE JUNIN          NaN  \n",
              "2  Servicio Penitenciario Provincial  UPP Nº 36 de Magdalena          NaN  "
            ]
          },
          "metadata": {
            "tags": []
          },
          "execution_count": 12
        }
      ]
    },
    {
      "metadata": {
        "id": "dIxOebKqLP7l",
        "colab_type": "text"
      },
      "cell_type": "markdown",
      "source": [
        "Los valores para los años no tienen un formato consistente en todas las filas, por lo que los procesaremos antes de comenzar. Los valores de año faltantes son reemplazados por NaN, y como la representación de enteros de numpy no soporta este tipo de valores, convertiremos cada año a tipo numpy.float. Otras decisiones pueden ser tomadas en este punto, como reemplazar los valores faltantes por 0 o elminarlos del dataset, dependiendo del tipo de datos que se requiera.\n",
        "\n",
        "También cambiaremos el nombre de la columna año, ya que el caracter ñ no permite utilizar el syntax sugar de pandas donde se obtienen los valores de la columna con la sintáxis de llamar a un método."
      ]
    },
    {
      "metadata": {
        "id": "JtCs4QVcLP7l",
        "colab_type": "code",
        "colab": {
          "autoexec": {
            "startup": false,
            "wait_interval": 0
          }
        }
      },
      "cell_type": "code",
      "source": [
        "import six\n",
        "def convert_to_int(row):\n",
        "    try:\n",
        "        return float(row)\n",
        "    except ValueError:\n",
        "        if isinstance(row, six.string_types):\n",
        "            return float(row.split(',')[0])\n",
        "        return row\n",
        "\n",
        "dataset.loc[:,'year'] = dataset[u'año'].apply(convert_to_int)\n",
        "# Se podrían también decodicar los nombres de provincias\n",
        "# dataset.loc[:,'provincia'] = dataset.provincia.apply(lambda x: x.decode(\"utf-8\"))"
      ],
      "execution_count": 0,
      "outputs": []
    },
    {
      "metadata": {
        "id": "F4pVzoHELP7p",
        "colab_type": "code",
        "colab": {
          "autoexec": {
            "startup": false,
            "wait_interval": 0
          },
          "base_uri": "https://localhost:8080/",
          "height": 34
        },
        "outputId": "744e8284-5674-484b-f5e9-fe13dddb28dc",
        "executionInfo": {
          "status": "ok",
          "timestamp": 1524181518078,
          "user_tz": 180,
          "elapsed": 749,
          "user": {
            "displayName": "Daniel Robins",
            "photoUrl": "//lh4.googleusercontent.com/-yakiBg0B4II/AAAAAAAAAAI/AAAAAAAAUPY/xui5kMqNOAI/s50-c-k-no/photo.jpg",
            "userId": "105626451647226009193"
          }
        }
      },
      "cell_type": "code",
      "source": [
        "dataset.shape, dataset.year.dropna().shape"
      ],
      "execution_count": 35,
      "outputs": [
        {
          "output_type": "execute_result",
          "data": {
            "text/plain": [
              "((1439, 18), (1316,))"
            ]
          },
          "metadata": {
            "tags": []
          },
          "execution_count": 35
        }
      ]
    },
    {
      "metadata": {
        "id": "NgTsr0JSLP7x",
        "colab_type": "text"
      },
      "cell_type": "markdown",
      "source": [
        "---\n",
        "# Ejercicios"
      ]
    },
    {
      "metadata": {
        "id": "pK_aKDXALP7y",
        "colab_type": "text"
      },
      "cell_type": "markdown",
      "source": [
        "### Ejercicio 1\n",
        "\n",
        "* Crear una imagen mostrando la distribución de los eventos por año\n",
        "\n",
        "* Construir una tabla de frecuencia de probabilidades dado el evento Y = ’año en el que ocurrió’\n",
        "\n",
        "$$fdp(Y)$$\n",
        "\n",
        "* Crear una imagen de dichas probabilidades con el gráfico que considere adecuado. ¿Son ambos gráficos iguales? ¿Cuál considera que es más útil?\n",
        "\n",
        "* ¿A qué se debe la forma de la distribución? ¿Qué tendencia muestra? ¿Ha aumentado la violencia institucional en los últimos años?\n",
        "\n",
        "* Calcular la función de distribución acumulada de la variable Y y graficarla. ¿Cuál es la probabilidad de que haya dado un acto de violencia antes del último cambio de gobierno?\n",
        "\n",
        "IMPORTANTE: ¿Qué hacemos con los datos faltantes?"
      ]
    },
    {
      "metadata": {
        "id": "-UzS9Q-sLP7z",
        "colab_type": "code",
        "colab": {
          "autoexec": {
            "startup": false,
            "wait_interval": 0
          }
        }
      },
      "cell_type": "code",
      "source": [
        "import itertools\n",
        "\n"
      ],
      "execution_count": 0,
      "outputs": []
    },
    {
      "metadata": {
        "id": "S6eqiRfxPmiQ",
        "colab_type": "text"
      },
      "cell_type": "markdown",
      "source": [
        "* Crear una imagen mostrando la distribución de los eventos por año\n",
        "\n",
        "Usamos https://seaborn.pydata.org/tutorial/distributions.html\n",
        "Histograms\n"
      ]
    },
    {
      "metadata": {
        "id": "LmQ_AseFPuIb",
        "colab_type": "code",
        "colab": {
          "autoexec": {
            "startup": false,
            "wait_interval": 0
          },
          "base_uri": "https://localhost:8080/",
          "height": 459
        },
        "outputId": "9c803e82-b9c7-47a7-f4d4-07b9b3c53f5c",
        "executionInfo": {
          "status": "ok",
          "timestamp": 1524186716266,
          "user_tz": 180,
          "elapsed": 3725,
          "user": {
            "displayName": "Daniel Robins",
            "photoUrl": "//lh4.googleusercontent.com/-yakiBg0B4II/AAAAAAAAAAI/AAAAAAAAUPY/xui5kMqNOAI/s50-c-k-no/photo.jpg",
            "userId": "105626451647226009193"
          }
        }
      },
      "cell_type": "code",
      "source": [
        "# Resolución Ejercicio 1\n",
        "# Crear una imagen mostrando la distribución de los eventos por año\n",
        "\n",
        "seaborn.distplot(dataset.year.dropna(axis=0, how='all'), kde=False, rug=True);\n",
        "\n"
      ],
      "execution_count": 86,
      "outputs": [
        {
          "output_type": "display_data",
          "data": {
            "image/png": "[encoded data removed]",
            "text/plain": [
              "<matplotlib.figure.Figure at 0x7f8b74449050>"
            ]
          },
          "metadata": {
            "tags": []
          }
        }
      ]
    },
    {
      "metadata": {
        "id": "_QQrruqrOSAP",
        "colab_type": "code",
        "colab": {
          "autoexec": {
            "startup": false,
            "wait_interval": 0
          },
          "base_uri": "https://localhost:8080/",
          "height": 487
        },
        "outputId": "7b5e82ba-cef8-4a02-8b1d-3e355dda8b83",
        "executionInfo": {
          "status": "ok",
          "timestamp": 1524186778574,
          "user_tz": 180,
          "elapsed": 1195,
          "user": {
            "displayName": "Daniel Robins",
            "photoUrl": "//lh4.googleusercontent.com/-yakiBg0B4II/AAAAAAAAAAI/AAAAAAAAUPY/xui5kMqNOAI/s50-c-k-no/photo.jpg",
            "userId": "105626451647226009193"
          }
        }
      },
      "cell_type": "code",
      "source": [
        "# Resolución Ejercicio 1\n",
        "# Crear una imagen mostrando la distribución de los eventos por año, otra forma\n",
        "\n",
        "ax=seaborn.countplot(dataset.year.dropna(), color='#2ecc71')\n",
        "ax.set_xticklabels(ax.get_xticklabels(), rotation=90, ha=\"right\")\n",
        "seaborn.despine()"
      ],
      "execution_count": 88,
      "outputs": [
        {
          "output_type": "display_data",
          "data": {
            "image/png": "[encoded data removed]",
            "text/plain": [
              "<matplotlib.figure.Figure at 0x7f8b71d26ad0>"
            ]
          },
          "metadata": {
            "tags": []
          }
        }
      ]
    },
    {
      "metadata": {
        "id": "OgYlrHrCUru7",
        "colab_type": "text"
      },
      "cell_type": "markdown",
      "source": [
        "* Construir una tabla de frecuencia de probabilidades dado el evento Y = ’año en el que ocurrió’\n",
        "\n",
        "$$fdp(Y)$$"
      ]
    },
    {
      "metadata": {
        "id": "lJlGub6qU3cU",
        "colab_type": "code",
        "colab": {
          "autoexec": {
            "startup": false,
            "wait_interval": 0
          },
          "base_uri": "https://localhost:8080/",
          "height": 510
        },
        "outputId": "95e315bf-c8a6-46ce-a231-47c4ae1565fb",
        "executionInfo": {
          "status": "ok",
          "timestamp": 1524186857633,
          "user_tz": 180,
          "elapsed": 897,
          "user": {
            "displayName": "Daniel Robins",
            "photoUrl": "//lh4.googleusercontent.com/-yakiBg0B4II/AAAAAAAAAAI/AAAAAAAAUPY/xui5kMqNOAI/s50-c-k-no/photo.jpg",
            "userId": "105626451647226009193"
          }
        }
      },
      "cell_type": "code",
      "source": [
        "# Ejercicio 1\n",
        "# Construir una tabla de frecuencia de probabilidades dado el evento Y = ’año en el que ocurrió’\n",
        "# fdp(Y)\n",
        "\n",
        "fdps = dataset.year.dropna().value_counts(normalize=True)\n",
        "fdps"
      ],
      "execution_count": 90,
      "outputs": [
        {
          "output_type": "execute_result",
          "data": {
            "text/plain": [
              "2016.0    0.225684\n",
              "2013.0    0.216565\n",
              "2014.0    0.183131\n",
              "2017.0    0.177812\n",
              "2015.0    0.066109\n",
              "2012.0    0.047112\n",
              "2010.0    0.015957\n",
              "2011.0    0.012158\n",
              "2009.0    0.007599\n",
              "2003.0    0.006839\n",
              "2002.0    0.005319\n",
              "2007.0    0.003799\n",
              "1990.0    0.003799\n",
              "2008.0    0.003799\n",
              "1991.0    0.003799\n",
              "2000.0    0.002280\n",
              "1994.0    0.002280\n",
              "2006.0    0.002280\n",
              "2005.0    0.002280\n",
              "2001.0    0.002280\n",
              "1993.0    0.001520\n",
              "1998.0    0.001520\n",
              "2004.0    0.001520\n",
              "1999.0    0.001520\n",
              "1989.0    0.000760\n",
              "1996.0    0.000760\n",
              "1997.0    0.000760\n",
              "1988.0    0.000760\n",
              "Name: year, dtype: float64"
            ]
          },
          "metadata": {
            "tags": []
          },
          "execution_count": 90
        }
      ]
    },
    {
      "metadata": {
        "id": "9rmH8232V8LN",
        "colab_type": "code",
        "colab": {
          "autoexec": {
            "startup": false,
            "wait_interval": 0
          },
          "base_uri": "https://localhost:8080/",
          "height": 487
        },
        "outputId": "0991b141-2b32-4062-b102-c4d0b43b4481",
        "executionInfo": {
          "status": "ok",
          "timestamp": 1524181117759,
          "user_tz": 180,
          "elapsed": 1098,
          "user": {
            "displayName": "Daniel Robins",
            "photoUrl": "//lh4.googleusercontent.com/-yakiBg0B4II/AAAAAAAAAAI/AAAAAAAAUPY/xui5kMqNOAI/s50-c-k-no/photo.jpg",
            "userId": "105626451647226009193"
          }
        }
      },
      "cell_type": "code",
      "source": [
        "# Ejercicio 1 \n",
        "# Crear una imagen de dichas probabilidades con el gráfico que considere adecuado. ¿Son ambos gráficos iguales? \n",
        "\n",
        "ax = seaborn.barplot(data=fdps.to_frame().reset_index(),\n",
        "    x='index', y='year', color='#2ecc71')\n",
        "ax.set_xticklabels(ax.get_xticklabels(), rotation=90, ha=\"right\")\n",
        "seaborn.despine()"
      ],
      "execution_count": 27,
      "outputs": [
        {
          "output_type": "display_data",
          "data": {
            "image/png": "[encoded data removed]",
            "text/plain": [
              "<matplotlib.figure.Figure at 0x7f8b7348a710>"
            ]
          },
          "metadata": {
            "tags": []
          }
        }
      ]
    },
    {
      "metadata": {
        "id": "8NVv3tZoo-ls",
        "colab_type": "text"
      },
      "cell_type": "markdown",
      "source": [
        "Crear una imagen de dichas probabilidades con el gráfico que considere adecuado. \n",
        "¿Son ambos gráficos iguales?\n",
        "\n",
        "No son iguales, ya que uno grafica la frecuencia y el otro la probabilidad\n",
        "\n",
        "¿Cuál considera que es más útil?\n",
        "\n",
        "Depende que se quiera analizar, en el caso de reducir la cantidad de casos respecto al año anterior, es mas útil el gráfico de la distribución de casos por año ya que muestra una idea de cantidades reales a reducir, en el caso de hacer un análisis de probabilidad de ocurrencia de casos en base a la historia de casos, es más útil el de frecuencia.\n",
        "\n",
        "* ¿A qué se debe la forma de la distribución?\n",
        "¿Qué tendencia muestra?\n",
        "\n",
        "\n",
        "Se observa en los últimos 12 años un patrón que se repite cada 3 años, donde luego de una frecuencia dada, hay un pico de casos de violencia y luego una baja, pero la tendencia en estos ciclos es de crecimiento de la violencia.\n",
        "\n",
        "¿Ha aumentado la violencia institucional en los últimos años?\n",
        "\n",
        "Si, la tendencia es en aumento\n",
        "\n",
        "\n",
        "* Calcular la función de distribución acumulada de la variable Y y graficarla. ¿Cuál es la probabilidad de que haya dado un acto de violencia antes del último cambio de gobierno?\n",
        "\n",
        "La cantidad de casos es creciente, la probabilidad de que hayan actos de antes de 2015 es cercana al 60%\n",
        "\n",
        "IMPORTANTE: ¿Qué hacemos con los datos faltantes?\n",
        "\n",
        "\n"
      ]
    },
    {
      "metadata": {
        "id": "Jh7t0jLSaFqJ",
        "colab_type": "text"
      },
      "cell_type": "markdown",
      "source": [
        "\n",
        "\n",
        "\n"
      ]
    },
    {
      "metadata": {
        "id": "SPis1A14O9eo",
        "colab_type": "code",
        "colab": {
          "autoexec": {
            "startup": false,
            "wait_interval": 0
          },
          "base_uri": "https://localhost:8080/",
          "height": 459
        },
        "outputId": "8da6811b-2bc7-49f9-fc52-c8c0f847bf51",
        "executionInfo": {
          "status": "ok",
          "timestamp": 1524186167004,
          "user_tz": 180,
          "elapsed": 1081,
          "user": {
            "displayName": "Daniel Robins",
            "photoUrl": "//lh4.googleusercontent.com/-yakiBg0B4II/AAAAAAAAAAI/AAAAAAAAUPY/xui5kMqNOAI/s50-c-k-no/photo.jpg",
            "userId": "105626451647226009193"
          }
        }
      },
      "cell_type": "code",
      "source": [
        "x = seaborn.distplot(dataset.year.dropna(axis=0, how='all'),\n",
        "             hist_kws=dict(cumulative=True),\n",
        "             kde_kws=dict(cumulative=True))"
      ],
      "execution_count": 81,
      "outputs": [
        {
          "output_type": "display_data",
          "data": {
            "image/png": "[encoded data removed]",
            "text/plain": [
              "<matplotlib.figure.Figure at 0x7f8b70c02e90>"
            ]
          },
          "metadata": {
            "tags": []
          }
        }
      ]
    },
    {
      "metadata": {
        "id": "r4uW4QHKLP79",
        "colab_type": "text"
      },
      "cell_type": "markdown",
      "source": [
        "## Ejercicio 2\n",
        "\n",
        "* Construir una tabla de frecuencia de probabilidades dado el evento X = ’provincia donde se desarrollo el hecho’\n",
        "\n",
        "$$fdp(X)$$\n",
        "\n",
        "* ¿Qué información adicional es necesaria para mostrar estos datos de manera más adecuada?\n",
        "* Muestre la distribución de los eventos visualmente. ¿Qué tipo de gráfico es más adecuado para mostrar esta información?"
      ]
    },
    {
      "metadata": {
        "id": "wLj8eGJdLP8A",
        "colab_type": "text"
      },
      "cell_type": "markdown",
      "source": [
        "### Ejercicio 3\n",
        "\n",
        "* Construir una tabla de doble entrada donde se observen las función de distribución de probabilidades con las 2 variables aleatorias anteriores.\n",
        "¿Son eventos independientes?\n",
        "\n",
        "* Crear una imagen de dichas probabilidades con el gráfico que considere adecuado.\n"
      ]
    },
    {
      "metadata": {
        "id": "aFtcCn-aLP8B",
        "colab_type": "text"
      },
      "cell_type": "markdown",
      "source": [
        "## Ejercicio 4\n",
        "\n",
        "Dada la variable aleatoria Z = ’contexto1 en el que se produjo el hecho’, calcular la probabilidad que el hecho sea producido en una dependencia de una fuerza de seguridad (penal, comisaría, etc)\n",
        "\n",
        "$$ fdp(z=penal ~~ |~~  z=comisaria ~~ | ...) $$"
      ]
    },
    {
      "metadata": {
        "id": "Vw6tslpWLP8C",
        "colab_type": "text"
      },
      "cell_type": "markdown",
      "source": [
        "## Ejercicio 5\n",
        "\n",
        "Dada la variable aleatoria M = ‘existió violencia fisica’:\n",
        "* ¿Que probabilidad existe que también tenga violencia psíquica? N = ‘existió violencia psíquica’\n",
        "\n",
        "$$P(M~~|~~N)$$\n",
        "\n",
        "* ¿Qué conclusión se puede formular de los datos que tenemos y los datos que obtenemos de los métodos probabilísticos?\n",
        "* ¿Podemos concluir en que son eventos independientes dadas las muestras?"
      ]
    }
  ]
}
