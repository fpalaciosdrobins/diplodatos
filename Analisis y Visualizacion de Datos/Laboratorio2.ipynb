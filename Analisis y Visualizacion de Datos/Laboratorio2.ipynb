{
  "nbformat": 4,
  "nbformat_minor": 0,
  "metadata": {
    "colab": {
      "name": "Laboratorio2.ipynb",
      "version": "0.3.2",
      "views": {},
      "default_view": {},
      "provenance": []
    },
    "kernelspec": {
      "name": "python3",
      "display_name": "Python 3"
    }
  },
  "cells": [
    {
      "metadata": {
        "id": "4vzBpISEIN_F",
        "colab_type": "text"
      },
      "cell_type": "markdown",
      "source": [
        "#Comunicación de resultados"
      ]
    },
    {
      "metadata": {
        "id": "HulYkHg0Pvje",
        "colab_type": "code",
        "colab": {
          "autoexec": {
            "startup": false,
            "wait_interval": 0
          }
        }
      },
      "cell_type": "code",
      "source": [
        "# Importar las librerías que usaremos en el LAB\n",
        "\n",
        "# %matplotlib notebook\n",
        "%matplotlib inline\n",
        "import pandas\n",
        "import numpy\n",
        "import seaborn\n",
        "import statistics\n",
        "\n",
        "import matplotlib.pyplot as plt\n",
        "import scipy.stats as stats"
      ],
      "execution_count": 0,
      "outputs": []
    },
    {
      "metadata": {
        "id": "OouLtGhWGxRG",
        "colab_type": "code",
        "colab": {
          "autoexec": {
            "startup": false,
            "wait_interval": 0
          },
          "base_uri": "https://localhost:8080/",
          "height": 310
        },
        "outputId": "5bd22ece-195a-49ed-ddb5-1b981812420f",
        "executionInfo": {
          "status": "ok",
          "timestamp": 1525346941528,
          "user_tz": 180,
          "elapsed": 933,
          "user": {
            "displayName": "Daniel Robins",
            "photoUrl": "//lh4.googleusercontent.com/-yakiBg0B4II/AAAAAAAAAAI/AAAAAAAAUPY/xui5kMqNOAI/s50-c-k-no/photo.jpg",
            "userId": "105626451647226009193"
          }
        }
      },
      "cell_type": "code",
      "source": [
        "# Dataset de la encuesta\n",
        "dataset = pandas.read_csv('https://raw.githubusercontent.com/fpalaciosdrobins/diplodatos/master/responses.csv',encoding='utf8')\n",
        "dataset[:3]"
      ],
      "execution_count": 51,
      "outputs": [
        {
          "output_type": "execute_result",
          "data": {
            "text/html": [
              "<div>\n",
              "<style scoped>\n",
              "    .dataframe tbody tr th:only-of-type {\n",
              "        vertical-align: middle;\n",
              "    }\n",
              "\n",
              "    .dataframe tbody tr th {\n",
              "        vertical-align: top;\n",
              "    }\n",
              "\n",
              "    .dataframe thead th {\n",
              "        text-align: right;\n",
              "    }\n",
              "</style>\n",
              "<table border=\"1\" class=\"dataframe\">\n",
              "  <thead>\n",
              "    <tr style=\"text-align: right;\">\n",
              "      <th></th>\n",
              "      <th>Music</th>\n",
              "      <th>Slow songs or fast songs</th>\n",
              "      <th>Dance</th>\n",
              "      <th>Folk</th>\n",
              "      <th>Country</th>\n",
              "      <th>Classical music</th>\n",
              "      <th>Musical</th>\n",
              "      <th>Pop</th>\n",
              "      <th>Rock</th>\n",
              "      <th>Metal or Hardrock</th>\n",
              "      <th>...</th>\n",
              "      <th>Age</th>\n",
              "      <th>Height</th>\n",
              "      <th>Weight</th>\n",
              "      <th>Number of siblings</th>\n",
              "      <th>Gender</th>\n",
              "      <th>Left - right handed</th>\n",
              "      <th>Education</th>\n",
              "      <th>Only child</th>\n",
              "      <th>Village - town</th>\n",
              "      <th>House - block of flats</th>\n",
              "    </tr>\n",
              "  </thead>\n",
              "  <tbody>\n",
              "    <tr>\n",
              "      <th>0</th>\n",
              "      <td>5.0</td>\n",
              "      <td>3.0</td>\n",
              "      <td>2.0</td>\n",
              "      <td>1.0</td>\n",
              "      <td>2.0</td>\n",
              "      <td>2.0</td>\n",
              "      <td>1.0</td>\n",
              "      <td>5.0</td>\n",
              "      <td>5.0</td>\n",
              "      <td>1.0</td>\n",
              "      <td>...</td>\n",
              "      <td>20.0</td>\n",
              "      <td>163.0</td>\n",
              "      <td>48.0</td>\n",
              "      <td>1.0</td>\n",
              "      <td>female</td>\n",
              "      <td>right handed</td>\n",
              "      <td>college/bachelor degree</td>\n",
              "      <td>no</td>\n",
              "      <td>village</td>\n",
              "      <td>block of flats</td>\n",
              "    </tr>\n",
              "    <tr>\n",
              "      <th>1</th>\n",
              "      <td>4.0</td>\n",
              "      <td>4.0</td>\n",
              "      <td>2.0</td>\n",
              "      <td>1.0</td>\n",
              "      <td>1.0</td>\n",
              "      <td>1.0</td>\n",
              "      <td>2.0</td>\n",
              "      <td>3.0</td>\n",
              "      <td>5.0</td>\n",
              "      <td>4.0</td>\n",
              "      <td>...</td>\n",
              "      <td>19.0</td>\n",
              "      <td>163.0</td>\n",
              "      <td>58.0</td>\n",
              "      <td>2.0</td>\n",
              "      <td>female</td>\n",
              "      <td>right handed</td>\n",
              "      <td>college/bachelor degree</td>\n",
              "      <td>no</td>\n",
              "      <td>city</td>\n",
              "      <td>block of flats</td>\n",
              "    </tr>\n",
              "    <tr>\n",
              "      <th>2</th>\n",
              "      <td>5.0</td>\n",
              "      <td>5.0</td>\n",
              "      <td>2.0</td>\n",
              "      <td>2.0</td>\n",
              "      <td>3.0</td>\n",
              "      <td>4.0</td>\n",
              "      <td>5.0</td>\n",
              "      <td>3.0</td>\n",
              "      <td>5.0</td>\n",
              "      <td>3.0</td>\n",
              "      <td>...</td>\n",
              "      <td>20.0</td>\n",
              "      <td>176.0</td>\n",
              "      <td>67.0</td>\n",
              "      <td>2.0</td>\n",
              "      <td>female</td>\n",
              "      <td>right handed</td>\n",
              "      <td>secondary school</td>\n",
              "      <td>no</td>\n",
              "      <td>city</td>\n",
              "      <td>block of flats</td>\n",
              "    </tr>\n",
              "  </tbody>\n",
              "</table>\n",
              "<p>3 rows × 150 columns</p>\n",
              "</div>"
            ],
            "text/plain": [
              "   Music  Slow songs or fast songs  Dance  Folk  Country  Classical music  \\\n",
              "0    5.0                       3.0    2.0   1.0      2.0              2.0   \n",
              "1    4.0                       4.0    2.0   1.0      1.0              1.0   \n",
              "2    5.0                       5.0    2.0   2.0      3.0              4.0   \n",
              "\n",
              "   Musical  Pop  Rock  Metal or Hardrock           ...             Age  \\\n",
              "0      1.0  5.0   5.0                1.0           ...            20.0   \n",
              "1      2.0  3.0   5.0                4.0           ...            19.0   \n",
              "2      5.0  3.0   5.0                3.0           ...            20.0   \n",
              "\n",
              "   Height  Weight  Number of siblings  Gender  Left - right handed  \\\n",
              "0   163.0    48.0                 1.0  female         right handed   \n",
              "1   163.0    58.0                 2.0  female         right handed   \n",
              "2   176.0    67.0                 2.0  female         right handed   \n",
              "\n",
              "                 Education  Only child  Village - town  House - block of flats  \n",
              "0  college/bachelor degree          no         village          block of flats  \n",
              "1  college/bachelor degree          no            city          block of flats  \n",
              "2         secondary school          no            city          block of flats  \n",
              "\n",
              "[3 rows x 150 columns]"
            ]
          },
          "metadata": {
            "tags": []
          },
          "execution_count": 51
        }
      ]
    },
    {
      "metadata": {
        "id": "IupjSTs-G8HX",
        "colab_type": "code",
        "colab": {
          "autoexec": {
            "startup": false,
            "wait_interval": 0
          },
          "base_uri": "https://localhost:8080/",
          "height": 173
        },
        "outputId": "6ef12a6a-8b65-4b0d-edb7-85da8536cbea",
        "executionInfo": {
          "status": "ok",
          "timestamp": 1525346942320,
          "user_tz": 180,
          "elapsed": 633,
          "user": {
            "displayName": "Daniel Robins",
            "photoUrl": "//lh4.googleusercontent.com/-yakiBg0B4II/AAAAAAAAAAI/AAAAAAAAUPY/xui5kMqNOAI/s50-c-k-no/photo.jpg",
            "userId": "105626451647226009193"
          }
        }
      },
      "cell_type": "code",
      "source": [
        "\n",
        "lab2 = pandas.crosstab(index=dataset['Alcohol'].dropna(how='all'), columns=dataset['Smoking'].dropna(how='all'), margins=False, normalize=False)\n",
        "\n",
        "lab2"
      ],
      "execution_count": 52,
      "outputs": [
        {
          "output_type": "execute_result",
          "data": {
            "text/html": [
              "<div>\n",
              "<style scoped>\n",
              "    .dataframe tbody tr th:only-of-type {\n",
              "        vertical-align: middle;\n",
              "    }\n",
              "\n",
              "    .dataframe tbody tr th {\n",
              "        vertical-align: top;\n",
              "    }\n",
              "\n",
              "    .dataframe thead th {\n",
              "        text-align: right;\n",
              "    }\n",
              "</style>\n",
              "<table border=\"1\" class=\"dataframe\">\n",
              "  <thead>\n",
              "    <tr style=\"text-align: right;\">\n",
              "      <th>Smoking</th>\n",
              "      <th>current smoker</th>\n",
              "      <th>former smoker</th>\n",
              "      <th>never smoked</th>\n",
              "      <th>tried smoking</th>\n",
              "    </tr>\n",
              "    <tr>\n",
              "      <th>Alcohol</th>\n",
              "      <th></th>\n",
              "      <th></th>\n",
              "      <th></th>\n",
              "      <th></th>\n",
              "    </tr>\n",
              "  </thead>\n",
              "  <tbody>\n",
              "    <tr>\n",
              "      <th>drink a lot</th>\n",
              "      <td>78</td>\n",
              "      <td>55</td>\n",
              "      <td>15</td>\n",
              "      <td>72</td>\n",
              "    </tr>\n",
              "    <tr>\n",
              "      <th>never</th>\n",
              "      <td>11</td>\n",
              "      <td>11</td>\n",
              "      <td>61</td>\n",
              "      <td>39</td>\n",
              "    </tr>\n",
              "    <tr>\n",
              "      <th>social drinker</th>\n",
              "      <td>99</td>\n",
              "      <td>109</td>\n",
              "      <td>131</td>\n",
              "      <td>319</td>\n",
              "    </tr>\n",
              "  </tbody>\n",
              "</table>\n",
              "</div>"
            ],
            "text/plain": [
              "Smoking         current smoker  former smoker  never smoked  tried smoking\n",
              "Alcohol                                                                   \n",
              "drink a lot                 78             55            15             72\n",
              "never                       11             11            61             39\n",
              "social drinker              99            109           131            319"
            ]
          },
          "metadata": {
            "tags": []
          },
          "execution_count": 52
        }
      ]
    },
    {
      "metadata": {
        "id": "6w1wfeaXHKTW",
        "colab_type": "code",
        "colab": {
          "autoexec": {
            "startup": false,
            "wait_interval": 0
          },
          "base_uri": "https://localhost:8080/",
          "height": 34
        },
        "outputId": "ff0e0e81-6f00-41a0-df00-b6c9d0f0729c",
        "executionInfo": {
          "status": "ok",
          "timestamp": 1525346943091,
          "user_tz": 180,
          "elapsed": 651,
          "user": {
            "displayName": "Daniel Robins",
            "photoUrl": "//lh4.googleusercontent.com/-yakiBg0B4II/AAAAAAAAAAI/AAAAAAAAUPY/xui5kMqNOAI/s50-c-k-no/photo.jpg",
            "userId": "105626451647226009193"
          }
        }
      },
      "cell_type": "code",
      "source": [
        "fumadores_bebedores = lab2[\"current smoker\"][\"drink a lot\"] + lab2[\"current smoker\"][\"social drinker\"] + lab2[\"tried smoking\"][\"drink a lot\"] + lab2[\"tried smoking\"][\"social drinker\"]\n",
        "fumadores_bebedores\n",
        "\n",
        "fumadores_no_bebedores = lab2[\"current smoker\"][\"never\"] + lab2[\"tried smoking\"][\"never\"] \n",
        "fumadores_no_bebedores\n",
        "\n",
        "no_fumadores_bebedores = lab2[\"former smoker\"][\"drink a lot\"] + lab2[\"former smoker\"][\"social drinker\"] + lab2[\"never smoked\"][\"drink a lot\"] + lab2[\"never smoked\"][\"social drinker\"]\n",
        "no_fumadores_bebedores\n",
        "\n",
        "no_fumadores_no_bebedores = lab2[\"former smoker\"][\"never\"] + lab2[\"never smoked\"][\"never\"] \n",
        "no_fumadores_no_bebedores\n",
        "\n",
        "array_fumadores = [fumadores_bebedores,no_fumadores_bebedores]\n",
        "\n",
        "array_bebedores = [fumadores_no_bebedores,no_fumadores_no_bebedores]\n",
        "\n",
        "array_lab2 = [array_fumadores,array_bebedores]\n",
        "\n",
        "print (array_lab2)"
      ],
      "execution_count": 53,
      "outputs": [
        {
          "output_type": "stream",
          "text": [
            "[[568, 310], [50, 72]]\n"
          ],
          "name": "stdout"
        }
      ]
    },
    {
      "metadata": {
        "id": "JGFTcrFTMzpG",
        "colab_type": "text"
      },
      "cell_type": "markdown",
      "source": [
        "![texto alternativo](https://)"
      ]
    },
    {
      "metadata": {
        "id": "V6tNhU2ofI-1",
        "colab_type": "code",
        "colab": {
          "autoexec": {
            "startup": false,
            "wait_interval": 0
          }
        }
      },
      "cell_type": "code",
      "source": [
        "# Dataset con filtro de mujeres\n",
        "dataset_mujeres = dataset.loc[dataset['Gender'] == 'female']\n",
        "\n",
        "# Dataset con filtro de hombres\n",
        "dataset_hombres = dataset.loc[dataset['Gender'] == 'male']\n",
        "\n",
        "\n",
        "\n",
        "\n"
      ],
      "execution_count": 0,
      "outputs": []
    },
    {
      "metadata": {
        "id": "RqlVy5G7eGhl",
        "colab_type": "code",
        "colab": {
          "autoexec": {
            "startup": false,
            "wait_interval": 0
          },
          "base_uri": "https://localhost:8080/",
          "height": 529
        },
        "outputId": "9027346e-b109-4838-e0e6-6a6154ff6eeb",
        "executionInfo": {
          "status": "ok",
          "timestamp": 1525346944833,
          "user_tz": 180,
          "elapsed": 835,
          "user": {
            "displayName": "Daniel Robins",
            "photoUrl": "//lh4.googleusercontent.com/-yakiBg0B4II/AAAAAAAAAAI/AAAAAAAAUPY/xui5kMqNOAI/s50-c-k-no/photo.jpg",
            "userId": "105626451647226009193"
          }
        }
      },
      "cell_type": "code",
      "source": [
        "plt.figure(figsize=(10,8))\n",
        " \n",
        "plt.title('Distribución de edad en hombres')\n",
        "\n",
        "seaborn.set_color_codes()\n",
        "\n",
        "seaborn.distplot(dataset_hombres.Age.dropna(axis=0, how='all'), color=\"r\")"
      ],
      "execution_count": 55,
      "outputs": [
        {
          "output_type": "execute_result",
          "data": {
            "text/plain": [
              "<matplotlib.axes._subplots.AxesSubplot at 0x7f0b19da20f0>"
            ]
          },
          "metadata": {
            "tags": []
          },
          "execution_count": 55
        },
        {
          "output_type": "display_data",
          "data": {
            "image/png": "[encoded data removed]",
            "text/plain": [
              "<matplotlib.figure.Figure at 0x7f0b19fcd2b0>"
            ]
          },
          "metadata": {
            "tags": []
          }
        }
      ]
    },
    {
      "metadata": {
        "id": "7DpS2CsEelU4",
        "colab_type": "code",
        "colab": {
          "autoexec": {
            "startup": false,
            "wait_interval": 0
          },
          "base_uri": "https://localhost:8080/",
          "height": 529
        },
        "outputId": "61b885bd-2883-4883-bd55-52754cd7bcc6",
        "executionInfo": {
          "status": "ok",
          "timestamp": 1525346945889,
          "user_tz": 180,
          "elapsed": 947,
          "user": {
            "displayName": "Daniel Robins",
            "photoUrl": "//lh4.googleusercontent.com/-yakiBg0B4II/AAAAAAAAAAI/AAAAAAAAUPY/xui5kMqNOAI/s50-c-k-no/photo.jpg",
            "userId": "105626451647226009193"
          }
        }
      },
      "cell_type": "code",
      "source": [
        "plt.figure(figsize=(10,8))\n",
        "plt.title('Distribución de edad en mujeres')\n",
        "seaborn.set_color_codes()\n",
        "\n",
        "seaborn.distplot(dataset_mujeres.Age.dropna(axis=0, how='all'), color='r')"
      ],
      "execution_count": 56,
      "outputs": [
        {
          "output_type": "execute_result",
          "data": {
            "text/plain": [
              "<matplotlib.axes._subplots.AxesSubplot at 0x7f0b19d50b38>"
            ]
          },
          "metadata": {
            "tags": []
          },
          "execution_count": 56
        },
        {
          "output_type": "display_data",
          "data": {
            "image/png": "[encoded data removed]",
            "text/plain": [
              "<matplotlib.figure.Figure at 0x7f0b19d50f60>"
            ]
          },
          "metadata": {
            "tags": []
          }
        }
      ]
    },
    {
      "metadata": {
        "id": "AzifNJ_dfZWp",
        "colab_type": "code",
        "colab": {
          "autoexec": {
            "startup": false,
            "wait_interval": 0
          },
          "base_uri": "https://localhost:8080/",
          "height": 583
        },
        "outputId": "9ffbc87e-6fb6-4543-bb06-d93c23c9e5bb",
        "executionInfo": {
          "status": "ok",
          "timestamp": 1525346946926,
          "user_tz": 180,
          "elapsed": 927,
          "user": {
            "displayName": "Daniel Robins",
            "photoUrl": "//lh4.googleusercontent.com/-yakiBg0B4II/AAAAAAAAAAI/AAAAAAAAUPY/xui5kMqNOAI/s50-c-k-no/photo.jpg",
            "userId": "105626451647226009193"
          }
        }
      },
      "cell_type": "code",
      "source": [
        "\n",
        "plt.figure(figsize=(8,8))\n",
        "plt.title('Outlier de Consumos de Alcohol por Edad')\n",
        "seaborn.boxplot(x=\"Age\", y=\"Alcohol\", data=dataset, color='pink')"
      ],
      "execution_count": 57,
      "outputs": [
        {
          "output_type": "stream",
          "text": [
            "/usr/local/lib/python3.6/dist-packages/seaborn/categorical.py:454: FutureWarning: remove_na is deprecated and is a private function. Do not use.\n",
            "  box_data = remove_na(group_data)\n"
          ],
          "name": "stderr"
        },
        {
          "output_type": "execute_result",
          "data": {
            "text/plain": [
              "<matplotlib.axes._subplots.AxesSubplot at 0x7f0b19c5ab00>"
            ]
          },
          "metadata": {
            "tags": []
          },
          "execution_count": 57
        },
        {
          "output_type": "display_data",
          "data": {
            "image/png": "[encoded data removed]",
            "text/plain": [
              "<matplotlib.figure.Figure at 0x7f0b19c5a0f0>"
            ]
          },
          "metadata": {
            "tags": []
          }
        }
      ]
    },
    {
      "metadata": {
        "id": "l2joE4fdf-OB",
        "colab_type": "code",
        "colab": {
          "autoexec": {
            "startup": false,
            "wait_interval": 0
          },
          "base_uri": "https://localhost:8080/",
          "height": 583
        },
        "outputId": "0ec9d228-0c0f-43bd-8696-66b87e8c2104",
        "executionInfo": {
          "status": "ok",
          "timestamp": 1525346947992,
          "user_tz": 180,
          "elapsed": 925,
          "user": {
            "displayName": "Daniel Robins",
            "photoUrl": "//lh4.googleusercontent.com/-yakiBg0B4II/AAAAAAAAAAI/AAAAAAAAUPY/xui5kMqNOAI/s50-c-k-no/photo.jpg",
            "userId": "105626451647226009193"
          }
        }
      },
      "cell_type": "code",
      "source": [
        "plt.figure(figsize=(8,8))\n",
        "plt.title('Outlier de Consumos de Tabaco por Edad')\n",
        "seaborn.boxplot(x=\"Age\", y=\"Smoking\", data=dataset, color='pink')"
      ],
      "execution_count": 58,
      "outputs": [
        {
          "output_type": "stream",
          "text": [
            "/usr/local/lib/python3.6/dist-packages/seaborn/categorical.py:454: FutureWarning: remove_na is deprecated and is a private function. Do not use.\n",
            "  box_data = remove_na(group_data)\n"
          ],
          "name": "stderr"
        },
        {
          "output_type": "execute_result",
          "data": {
            "text/plain": [
              "<matplotlib.axes._subplots.AxesSubplot at 0x7f0b19b9fe80>"
            ]
          },
          "metadata": {
            "tags": []
          },
          "execution_count": 58
        },
        {
          "output_type": "display_data",
          "data": {
            "image/png": "[encoded data removed]",
            "text/plain": [
              "<matplotlib.figure.Figure at 0x7f0b19c3bc18>"
            ]
          },
          "metadata": {
            "tags": []
          }
        }
      ]
    },
    {
      "metadata": {
        "id": "IuNL-l8nqdaY",
        "colab_type": "code",
        "colab": {
          "autoexec": {
            "startup": false,
            "wait_interval": 0
          },
          "base_uri": "https://localhost:8080/",
          "height": 173
        },
        "outputId": "8bcaf57c-d76e-4f5d-ca36-286cd95352d7",
        "executionInfo": {
          "status": "ok",
          "timestamp": 1525346948901,
          "user_tz": 180,
          "elapsed": 777,
          "user": {
            "displayName": "Daniel Robins",
            "photoUrl": "//lh4.googleusercontent.com/-yakiBg0B4II/AAAAAAAAAAI/AAAAAAAAUPY/xui5kMqNOAI/s50-c-k-no/photo.jpg",
            "userId": "105626451647226009193"
          }
        }
      },
      "cell_type": "code",
      "source": [
        "# Dataset reducido\n",
        "\n",
        "dataset_reducido = dataset\n",
        "dataset_reducido.loc[dataset_reducido.Alcohol == 'never' , 'Alcohol'] = 'No Bebedores'\n",
        "dataset_reducido.loc[dataset_reducido.Alcohol == 'drink a lot' , 'Alcohol'] = 'Bebedores'\n",
        "dataset_reducido.loc[dataset_reducido.Alcohol == 'social drinker', 'Alcohol'] = 'Bebedores'\n",
        "\n",
        "dataset_reducido.loc[dataset_reducido.Smoking == 'never smoked' , 'Smoking'] = 'No Fumadores'\n",
        "dataset_reducido.loc[dataset_reducido.Smoking == 'former smoker' , 'Smoking'] = 'No Fumadores'\n",
        "dataset_reducido.loc[dataset_reducido.Smoking == 'tried smoking', 'Smoking'] = 'Fumadores'\n",
        "dataset_reducido.loc[dataset_reducido.Smoking == 'current smoker', 'Smoking'] = 'Fumadores'\n",
        "\n",
        "cross_reducido = pandas.crosstab(index=dataset_reducido['Alcohol'].dropna(how='all'), columns=dataset_reducido['Smoking'].dropna(how='all'), margins=True, normalize=False)\n",
        "\n",
        "cross_reducido"
      ],
      "execution_count": 59,
      "outputs": [
        {
          "output_type": "execute_result",
          "data": {
            "text/html": [
              "<div>\n",
              "<style scoped>\n",
              "    .dataframe tbody tr th:only-of-type {\n",
              "        vertical-align: middle;\n",
              "    }\n",
              "\n",
              "    .dataframe tbody tr th {\n",
              "        vertical-align: top;\n",
              "    }\n",
              "\n",
              "    .dataframe thead th {\n",
              "        text-align: right;\n",
              "    }\n",
              "</style>\n",
              "<table border=\"1\" class=\"dataframe\">\n",
              "  <thead>\n",
              "    <tr style=\"text-align: right;\">\n",
              "      <th>Smoking</th>\n",
              "      <th>Fumadores</th>\n",
              "      <th>No Fumadores</th>\n",
              "      <th>All</th>\n",
              "    </tr>\n",
              "    <tr>\n",
              "      <th>Alcohol</th>\n",
              "      <th></th>\n",
              "      <th></th>\n",
              "      <th></th>\n",
              "    </tr>\n",
              "  </thead>\n",
              "  <tbody>\n",
              "    <tr>\n",
              "      <th>Bebedores</th>\n",
              "      <td>568</td>\n",
              "      <td>310</td>\n",
              "      <td>878</td>\n",
              "    </tr>\n",
              "    <tr>\n",
              "      <th>No Bebedores</th>\n",
              "      <td>50</td>\n",
              "      <td>72</td>\n",
              "      <td>122</td>\n",
              "    </tr>\n",
              "    <tr>\n",
              "      <th>All</th>\n",
              "      <td>618</td>\n",
              "      <td>382</td>\n",
              "      <td>1000</td>\n",
              "    </tr>\n",
              "  </tbody>\n",
              "</table>\n",
              "</div>"
            ],
            "text/plain": [
              "Smoking       Fumadores  No Fumadores   All\n",
              "Alcohol                                    \n",
              "Bebedores           568           310   878\n",
              "No Bebedores         50            72   122\n",
              "All                 618           382  1000"
            ]
          },
          "metadata": {
            "tags": []
          },
          "execution_count": 59
        }
      ]
    },
    {
      "metadata": {
        "id": "5MuJfkkRswCQ",
        "colab_type": "code",
        "colab": {
          "autoexec": {
            "startup": false,
            "wait_interval": 0
          },
          "base_uri": "https://localhost:8080/",
          "height": 583
        },
        "outputId": "d2593377-d63a-46a1-f68c-691300184c02",
        "executionInfo": {
          "status": "ok",
          "timestamp": 1525347054847,
          "user_tz": 180,
          "elapsed": 951,
          "user": {
            "displayName": "Daniel Robins",
            "photoUrl": "//lh4.googleusercontent.com/-yakiBg0B4II/AAAAAAAAAAI/AAAAAAAAUPY/xui5kMqNOAI/s50-c-k-no/photo.jpg",
            "userId": "105626451647226009193"
          }
        }
      },
      "cell_type": "code",
      "source": [
        "plt.figure(figsize=(8,8))\n",
        "plt.title('Outlier de Consumos de Alcohol por Edad')\n",
        "seaborn.boxplot(x=\"Age\", y=\"Alcohol\", data=dataset_reducido, color='pink',order=[\"Bebedores\", \"No Bebedores\"])"
      ],
      "execution_count": 64,
      "outputs": [
        {
          "output_type": "stream",
          "text": [
            "/usr/local/lib/python3.6/dist-packages/seaborn/categorical.py:454: FutureWarning: remove_na is deprecated and is a private function. Do not use.\n",
            "  box_data = remove_na(group_data)\n"
          ],
          "name": "stderr"
        },
        {
          "output_type": "execute_result",
          "data": {
            "text/plain": [
              "<matplotlib.axes._subplots.AxesSubplot at 0x7f0b19f386d8>"
            ]
          },
          "metadata": {
            "tags": []
          },
          "execution_count": 64
        },
        {
          "output_type": "display_data",
          "data": {
            "image/png": "[encoded data removed]",
            "text/plain": [
              "<matplotlib.figure.Figure at 0x7f0b19f38b70>"
            ]
          },
          "metadata": {
            "tags": []
          }
        }
      ]
    },
    {
      "metadata": {
        "id": "ftQT9rNPs1g5",
        "colab_type": "code",
        "colab": {
          "autoexec": {
            "startup": false,
            "wait_interval": 0
          },
          "base_uri": "https://localhost:8080/",
          "height": 583
        },
        "outputId": "509a1d89-5a4d-44ea-caaf-7a9c7af9b5bd",
        "executionInfo": {
          "status": "ok",
          "timestamp": 1525347020713,
          "user_tz": 180,
          "elapsed": 760,
          "user": {
            "displayName": "Daniel Robins",
            "photoUrl": "//lh4.googleusercontent.com/-yakiBg0B4II/AAAAAAAAAAI/AAAAAAAAUPY/xui5kMqNOAI/s50-c-k-no/photo.jpg",
            "userId": "105626451647226009193"
          }
        }
      },
      "cell_type": "code",
      "source": [
        "plt.figure(figsize=(8,8))\n",
        "plt.title('Outlier de Consumos de Tabaco por Edad')\n",
        "seaborn.boxplot(x=\"Age\", y=\"Smoking\", data=dataset_reducido, color='pink',order=[\"Fumadores\", \"No Fumadores\"])"
      ],
      "execution_count": 63,
      "outputs": [
        {
          "output_type": "stream",
          "text": [
            "/usr/local/lib/python3.6/dist-packages/seaborn/categorical.py:454: FutureWarning: remove_na is deprecated and is a private function. Do not use.\n",
            "  box_data = remove_na(group_data)\n"
          ],
          "name": "stderr"
        },
        {
          "output_type": "execute_result",
          "data": {
            "text/plain": [
              "<matplotlib.axes._subplots.AxesSubplot at 0x7f0b19a9b048>"
            ]
          },
          "metadata": {
            "tags": []
          },
          "execution_count": 63
        },
        {
          "output_type": "display_data",
          "data": {
            "image/png": "[encoded data removed]",
            "text/plain": [
              "<matplotlib.figure.Figure at 0x7f0b19be7208>"
            ]
          },
          "metadata": {
            "tags": []
          }
        }
      ]
    },
    {
      "metadata": {
        "id": "OISeKm-zqv5g",
        "colab_type": "code",
        "colab": {
          "autoexec": {
            "startup": false,
            "wait_interval": 0
          },
          "base_uri": "https://localhost:8080/",
          "height": 119
        },
        "outputId": "e34d5884-1ffc-490a-e096-b3fb4d97626e",
        "executionInfo": {
          "status": "ok",
          "timestamp": 1525345356764,
          "user_tz": 180,
          "elapsed": 725,
          "user": {
            "displayName": "Fernando Palacios",
            "photoUrl": "//lh3.googleusercontent.com/-w1q4ZcmPmtY/AAAAAAAAAAI/AAAAAAAAA7o/uvuIghuG18Y/s50-c-k-no/photo.jpg",
            "userId": "117286586872748177478"
          }
        }
      },
      "cell_type": "code",
      "source": [
        "from scipy.stats import chi2\n",
        "\n",
        "obs = array_lab2\n",
        "chi, p, dof, expected = stats.chi2_contingency(obs)\n",
        "\n",
        "print('chi teórico 95%:',chi2.isf(0.05,1))\n",
        "print('observados     :',obs)\n",
        "print('esperados:',expected)\n",
        "print('chi2           :',chi)\n",
        "print('valor p        :',p)"
      ],
      "execution_count": 118,
      "outputs": [
        {
          "output_type": "stream",
          "text": [
            "chi teórico 95%: 3.8414588206941245\n",
            "observados     : [[568, 310], [50, 72]]\n",
            "esperados: [[542.604 335.396]\n",
            " [ 75.396  46.604]]\n",
            "chi2           : 24.510544887026285\n",
            "valor p        : 7.390426288849903e-07\n"
          ],
          "name": "stdout"
        }
      ]
    }
  ]
}