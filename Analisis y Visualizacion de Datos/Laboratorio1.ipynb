{
  "nbformat": 4,
  "nbformat_minor": 0,
  "metadata": {
    "colab": {
      "name": "Laboratorio1.ipynb",
      "version": "0.3.2",
      "views": {},
      "default_view": {},
      "provenance": [],
      "collapsed_sections": []
    },
    "kernelspec": {
      "name": "python3",
      "display_name": "Python 3"
    }
  },
  "cells": [
    {
      "metadata": {
        "id": "CoECIaXWM1GO",
        "colab_type": "text"
      },
      "cell_type": "markdown",
      "source": [
        "#Laboratorio 1\n",
        "\n",
        "##Exploración de datos\n",
        "\n",
        "\n",
        "En este laboratorio realizaremos un trabajo de exploración sobre un dataset dado. Hemos tomado como inspiración el siguiente kernel de Kaggle: [We are from our childhood](https://www.kaggle.com/jkokatjuhha/we-are-from-our-childhood). \n",
        "\n",
        "El conjunto de datos utilizado son las respuestas de gente joven a una encuesta, con la que les proponemos trabajar. \n",
        "\n",
        "En esta notebook en particular, la autora visualiza distintos aspectos de los datos tratando de encontrar factores de variación relacionados a la respuesta “Crecí en la ciudad” o “Crecí en el campo”. La consigna para este laboratorio es realizar un trabajo similar, aunque más simple, analizando algunas de las variables provistas por la encuesta."
      ]
    },
    {
      "metadata": {
        "id": "1vW8IBJBMyIE",
        "colab_type": "code",
        "colab": {
          "autoexec": {
            "startup": false,
            "wait_interval": 0
          }
        }
      },
      "cell_type": "code",
      "source": [
        "# Importar las librerías que usaremos en el LAB\n",
        "\n",
        "# %matplotlib notebook\n",
        "%matplotlib inline\n",
        "import pandas\n",
        "import numpy\n",
        "import seaborn\n",
        "import statistics\n",
        "\n",
        "import matplotlib.pyplot as plt"
      ],
      "execution_count": 0,
      "outputs": []
    },
    {
      "metadata": {
        "id": "eaBen6J2KFPe",
        "colab_type": "text"
      },
      "cell_type": "markdown",
      "source": [
        ""
      ]
    },
    {
      "metadata": {
        "id": "hfQUdsU-KCqJ",
        "colab_type": "text"
      },
      "cell_type": "markdown",
      "source": [
        "##Variables a tener en cuenta en el análisis:\n",
        "\n",
        "Hábitos de fumar: Nunca he fumado - He probado - Fumador anterior - Fumador actual (categórico)\n",
        "\n",
        "Beber: Nunca - Bebedor social - Bebo mucho (categórica)\n"
      ]
    },
    {
      "metadata": {
        "id": "7M59TtRyIzVF",
        "colab_type": "code",
        "colab": {
          "autoexec": {
            "startup": false,
            "wait_interval": 0
          }
        }
      },
      "cell_type": "code",
      "source": [
        "# Datasets a analizar\n",
        "# Dataset de la encuesta\n",
        "\n",
        "dataset = pandas.read_csv('https://raw.githubusercontent.com/fpalaciosdrobins/diplodatos/master/responses.csv',encoding='utf8')\n",
        "dataset[:10]\n",
        "\n",
        "# Dataset con filtro de mujeres\n",
        "dataset_mujeres = dataset.loc[dataset['Gender'] == 'female']\n",
        "\n",
        "# Dataset con filtro de hombres\n",
        "dataset_hombres = dataset.loc[dataset['Gender'] == 'male']\n",
        "\n",
        "\n"
      ],
      "execution_count": 0,
      "outputs": []
    },
    {
      "metadata": {
        "id": "Ahdej-arTcYH",
        "colab_type": "code",
        "colab": {
          "autoexec": {
            "startup": false,
            "wait_interval": 0
          },
          "base_uri": "https://localhost:8080/",
          "height": 310
        },
        "outputId": "81cf58b2-8558-47c6-b7a0-7d2a2f2ff293",
        "executionInfo": {
          "status": "ok",
          "timestamp": 1525083207917,
          "user_tz": 180,
          "elapsed": 735,
          "user": {
            "displayName": "Fernando Palacios",
            "photoUrl": "//lh3.googleusercontent.com/-w1q4ZcmPmtY/AAAAAAAAAAI/AAAAAAAAA7o/uvuIghuG18Y/s50-c-k-no/photo.jpg",
            "userId": "117286586872748177478"
          }
        }
      },
      "cell_type": "code",
      "source": [
        "dataset[:3]"
      ],
      "execution_count": 4,
      "outputs": [
        {
          "output_type": "execute_result",
          "data": {
            "text/html": [
              "<div>\n",
              "<style scoped>\n",
              "    .dataframe tbody tr th:only-of-type {\n",
              "        vertical-align: middle;\n",
              "    }\n",
              "\n",
              "    .dataframe tbody tr th {\n",
              "        vertical-align: top;\n",
              "    }\n",
              "\n",
              "    .dataframe thead th {\n",
              "        text-align: right;\n",
              "    }\n",
              "</style>\n",
              "<table border=\"1\" class=\"dataframe\">\n",
              "  <thead>\n",
              "    <tr style=\"text-align: right;\">\n",
              "      <th></th>\n",
              "      <th>Music</th>\n",
              "      <th>Slow songs or fast songs</th>\n",
              "      <th>Dance</th>\n",
              "      <th>Folk</th>\n",
              "      <th>Country</th>\n",
              "      <th>Classical music</th>\n",
              "      <th>Musical</th>\n",
              "      <th>Pop</th>\n",
              "      <th>Rock</th>\n",
              "      <th>Metal or Hardrock</th>\n",
              "      <th>...</th>\n",
              "      <th>Age</th>\n",
              "      <th>Height</th>\n",
              "      <th>Weight</th>\n",
              "      <th>Number of siblings</th>\n",
              "      <th>Gender</th>\n",
              "      <th>Left - right handed</th>\n",
              "      <th>Education</th>\n",
              "      <th>Only child</th>\n",
              "      <th>Village - town</th>\n",
              "      <th>House - block of flats</th>\n",
              "    </tr>\n",
              "  </thead>\n",
              "  <tbody>\n",
              "    <tr>\n",
              "      <th>0</th>\n",
              "      <td>5.0</td>\n",
              "      <td>3.0</td>\n",
              "      <td>2.0</td>\n",
              "      <td>1.0</td>\n",
              "      <td>2.0</td>\n",
              "      <td>2.0</td>\n",
              "      <td>1.0</td>\n",
              "      <td>5.0</td>\n",
              "      <td>5.0</td>\n",
              "      <td>1.0</td>\n",
              "      <td>...</td>\n",
              "      <td>20.0</td>\n",
              "      <td>163.0</td>\n",
              "      <td>48.0</td>\n",
              "      <td>1.0</td>\n",
              "      <td>female</td>\n",
              "      <td>right handed</td>\n",
              "      <td>college/bachelor degree</td>\n",
              "      <td>no</td>\n",
              "      <td>village</td>\n",
              "      <td>block of flats</td>\n",
              "    </tr>\n",
              "    <tr>\n",
              "      <th>1</th>\n",
              "      <td>4.0</td>\n",
              "      <td>4.0</td>\n",
              "      <td>2.0</td>\n",
              "      <td>1.0</td>\n",
              "      <td>1.0</td>\n",
              "      <td>1.0</td>\n",
              "      <td>2.0</td>\n",
              "      <td>3.0</td>\n",
              "      <td>5.0</td>\n",
              "      <td>4.0</td>\n",
              "      <td>...</td>\n",
              "      <td>19.0</td>\n",
              "      <td>163.0</td>\n",
              "      <td>58.0</td>\n",
              "      <td>2.0</td>\n",
              "      <td>female</td>\n",
              "      <td>right handed</td>\n",
              "      <td>college/bachelor degree</td>\n",
              "      <td>no</td>\n",
              "      <td>city</td>\n",
              "      <td>block of flats</td>\n",
              "    </tr>\n",
              "    <tr>\n",
              "      <th>2</th>\n",
              "      <td>5.0</td>\n",
              "      <td>5.0</td>\n",
              "      <td>2.0</td>\n",
              "      <td>2.0</td>\n",
              "      <td>3.0</td>\n",
              "      <td>4.0</td>\n",
              "      <td>5.0</td>\n",
              "      <td>3.0</td>\n",
              "      <td>5.0</td>\n",
              "      <td>3.0</td>\n",
              "      <td>...</td>\n",
              "      <td>20.0</td>\n",
              "      <td>176.0</td>\n",
              "      <td>67.0</td>\n",
              "      <td>2.0</td>\n",
              "      <td>female</td>\n",
              "      <td>right handed</td>\n",
              "      <td>secondary school</td>\n",
              "      <td>no</td>\n",
              "      <td>city</td>\n",
              "      <td>block of flats</td>\n",
              "    </tr>\n",
              "  </tbody>\n",
              "</table>\n",
              "<p>3 rows × 150 columns</p>\n",
              "</div>"
            ],
            "text/plain": [
              "   Music  Slow songs or fast songs  Dance  Folk  Country  Classical music  \\\n",
              "0    5.0                       3.0    2.0   1.0      2.0              2.0   \n",
              "1    4.0                       4.0    2.0   1.0      1.0              1.0   \n",
              "2    5.0                       5.0    2.0   2.0      3.0              4.0   \n",
              "\n",
              "   Musical  Pop  Rock  Metal or Hardrock           ...             Age  \\\n",
              "0      1.0  5.0   5.0                1.0           ...            20.0   \n",
              "1      2.0  3.0   5.0                4.0           ...            19.0   \n",
              "2      5.0  3.0   5.0                3.0           ...            20.0   \n",
              "\n",
              "   Height  Weight  Number of siblings  Gender  Left - right handed  \\\n",
              "0   163.0    48.0                 1.0  female         right handed   \n",
              "1   163.0    58.0                 2.0  female         right handed   \n",
              "2   176.0    67.0                 2.0  female         right handed   \n",
              "\n",
              "                 Education  Only child  Village - town  House - block of flats  \n",
              "0  college/bachelor degree          no         village          block of flats  \n",
              "1  college/bachelor degree          no            city          block of flats  \n",
              "2         secondary school          no            city          block of flats  \n",
              "\n",
              "[3 rows x 150 columns]"
            ]
          },
          "metadata": {
            "tags": []
          },
          "execution_count": 4
        }
      ]
    },
    {
      "metadata": {
        "id": "c7vvGw1mLMS9",
        "colab_type": "text"
      },
      "cell_type": "markdown",
      "source": [
        "#Estadísticas descriptivas\n",
        "\n",
        "## Calcular estadísticos como la moda, media, mediana y desviación estándar del peso y de la edad.\n",
        "\n",
        "### Estadísticas descriptivas de la edad"
      ]
    },
    {
      "metadata": {
        "id": "dhgJNv_bKYcm",
        "colab_type": "code",
        "colab": {
          "autoexec": {
            "startup": false,
            "wait_interval": 0
          },
          "base_uri": "https://localhost:8080/",
          "height": 68
        },
        "outputId": "af43c312-d1f2-4259-b760-67195cb0a115",
        "executionInfo": {
          "status": "ok",
          "timestamp": 1525083212203,
          "user_tz": 180,
          "elapsed": 770,
          "user": {
            "displayName": "Fernando Palacios",
            "photoUrl": "//lh3.googleusercontent.com/-w1q4ZcmPmtY/AAAAAAAAAAI/AAAAAAAAA7o/uvuIghuG18Y/s50-c-k-no/photo.jpg",
            "userId": "117286586872748177478"
          }
        }
      },
      "cell_type": "code",
      "source": [
        "age_mediana=numpy.median(dataset.Age.dropna(axis=0,how='all'))\n",
        "age_std=numpy.std(dataset.Age.dropna(axis=0,how='all'))\n",
        "age_moda=statistics.mode(dataset.Age.dropna(axis=0,how='all'))\n",
        "age_mean=numpy.mean(dataset.Age.dropna(axis=0,how='all'))\n",
        "age_min=numpy.min(dataset.Age.dropna(axis=0,how='all'))\n",
        "age_max=numpy.max(dataset.Age.dropna(axis=0,how='all'))\n",
        "\n",
        "print ('Totales ... Media ',age_mean,'  Mediana ',age_mediana,' Desviación Standard ',age_std, ' Moda ',age_moda)\n",
        "\n",
        "age_mediana_muj=numpy.median(dataset_mujeres.Age.dropna(axis=0,how='all'))\n",
        "age_std_muj=numpy.std(dataset_mujeres.Age.dropna(axis=0,how='all'))\n",
        "age_moda_muj=statistics.mode(dataset_mujeres.Age.dropna(axis=0,how='all'))\n",
        "age_mean_muj=numpy.mean(dataset_mujeres.Age.dropna(axis=0,how='all'))\n",
        "age_min_muj=numpy.min(dataset_mujeres.Age.dropna(axis=0,how='all'))\n",
        "age_max_muj=numpy.max(dataset_mujeres.Age.dropna(axis=0,how='all'))\n",
        "\n",
        "print ('Mujeres ... Media ',age_mean_muj,' Mediana ',age_mediana_muj,' Desviación Standard ',age_std_muj, '  Moda ',age_moda_muj)\n",
        "\n",
        "\n",
        "age_mediana_hom=numpy.median(dataset_hombres.Age.dropna(axis=0,how='all'))\n",
        "age_std_hom=numpy.std(dataset_hombres.Age.dropna(axis=0,how='all'))\n",
        "age_moda_hom=statistics.mode(dataset_hombres.Age.dropna(axis=0,how='all'))\n",
        "age_mean_hom=numpy.mean(dataset_hombres.Age.dropna(axis=0,how='all'))\n",
        "age_min_hom=numpy.min(dataset_hombres.Age.dropna(axis=0,how='all'))\n",
        "age_max_hom=numpy.max(dataset_hombres.Age.dropna(axis=0,how='all'))\n",
        "\n",
        "print ('Hombres ... Media ',age_mean_muj,' Mediana ',age_mediana_muj,' Desviación Standard ',age_std_muj, '  Moda ',age_moda_muj)\n",
        "\n"
      ],
      "execution_count": 5,
      "outputs": [
        {
          "output_type": "stream",
          "text": [
            "Totales ... Media  20.43369890329013   Mediana  20.0  Desviación Standard  2.8274295576298125  Moda  19.0\n",
            "Mujeres ... Media  20.113752122241088  Mediana  20.0  Desviación Standard  2.790165425784379   Moda  19.0\n",
            "Hombres ... Media  20.113752122241088  Mediana  20.0  Desviación Standard  2.790165425784379   Moda  19.0\n"
          ],
          "name": "stdout"
        }
      ]
    },
    {
      "metadata": {
        "id": "QmirGdCZPA1R",
        "colab_type": "text"
      },
      "cell_type": "markdown",
      "source": [
        "### Estadísticas descriptivas del peso"
      ]
    },
    {
      "metadata": {
        "id": "qKHxa8Q9O-tl",
        "colab_type": "code",
        "colab": {
          "autoexec": {
            "startup": false,
            "wait_interval": 0
          },
          "base_uri": "https://localhost:8080/",
          "height": 68
        },
        "outputId": "44b9efa2-ca3c-4dc2-cfb0-3d2c33c236a1",
        "executionInfo": {
          "status": "ok",
          "timestamp": 1525083215921,
          "user_tz": 180,
          "elapsed": 773,
          "user": {
            "displayName": "Fernando Palacios",
            "photoUrl": "//lh3.googleusercontent.com/-w1q4ZcmPmtY/AAAAAAAAAAI/AAAAAAAAA7o/uvuIghuG18Y/s50-c-k-no/photo.jpg",
            "userId": "117286586872748177478"
          }
        }
      },
      "cell_type": "code",
      "source": [
        "weight_media = statistics.mean(dataset.Weight.dropna(axis=0,how='all'))\n",
        "weight_mediana =numpy.median(dataset.Weight.dropna(axis=0,how='all'))\n",
        "weight_std =numpy.std(dataset.Weight.dropna(axis=0,how='all'))\n",
        "weight_moda=statistics.mode(dataset.Weight.dropna(axis=0,how='all'))\n",
        "\n",
        "print ('Totales ... Media ', weight_media, '  Mediana ',weight_mediana,' Desviación Standard ',weight_std,' Moda ',weight_moda)\n",
        "\n",
        "\n",
        "weight_mediana_muj=numpy.median(dataset_mujeres.Weight.dropna(axis=0,how='all'))\n",
        "weight_std_muj=numpy.std(dataset_mujeres.Weight.dropna(axis=0,how='all'))\n",
        "weight_moda_muj=statistics.mode(dataset_mujeres.Weight.dropna(axis=0,how='all'))\n",
        "weight_mean_muj=numpy.mean(dataset_mujeres.Weight.dropna(axis=0,how='all'))\n",
        "weight_min_muj=numpy.min(dataset_mujeres.Weight.dropna(axis=0,how='all'))\n",
        "weight_max_muj=numpy.max(dataset_mujeres.Weight.dropna(axis=0,how='all'))\n",
        "\n",
        "print ('Mujeres ... Media ',weight_mean_muj,' Mediana ',weight_mediana_muj,' Desviación Standard ',weight_std_muj, '  Moda ',weight_moda_muj)\n",
        "\n",
        "weight_mediana_hom=numpy.median(dataset_hombres.Weight.dropna(axis=0,how='all'))\n",
        "weight_std_hom=numpy.std(dataset_hombres.Weight.dropna(axis=0,how='all'))\n",
        "weight_moda_hom=statistics.mode(dataset_hombres.Weight.dropna(axis=0,how='all'))\n",
        "weight_mean_hom=numpy.mean(dataset_hombres.Weight.dropna(axis=0,how='all'))\n",
        "weight_min_hom=numpy.min(dataset_hombres.Weight.dropna(axis=0,how='all'))\n",
        "weight_max_hom=numpy.max(dataset_hombres.Weight.dropna(axis=0,how='all'))\n",
        "\n",
        "print ('Hombres ... Media ',weight_mean_hom,'  Mediana ',weight_mediana_hom,' Desviación Standard ',weight_std_hom, ' Moda ',weight_moda_hom)\n"
      ],
      "execution_count": 6,
      "outputs": [
        {
          "output_type": "stream",
          "text": [
            "Totales ... Media  66.40505050505051   Mediana  64.0  Desviación Standard  13.832569338065822  Moda  60.0\n",
            "Mujeres ... Media  58.963793103448275  Mediana  57.0  Desviación Standard  9.997089201808594   Moda  60.0\n",
            "Hombres ... Media  77.08888888888889   Mediana  77.0  Desviación Standard  11.335816721380985  Moda  80.0\n"
          ],
          "name": "stdout"
        }
      ]
    },
    {
      "metadata": {
        "id": "fvySwQIWPeoX",
        "colab_type": "text"
      },
      "cell_type": "markdown",
      "source": [
        "## ¿Las estadísticas descriptivas responden a alguna distribución conocida?\n",
        "\n",
        "## Histograma de Edad"
      ]
    },
    {
      "metadata": {
        "id": "ZI4nvKCjE8sk",
        "colab_type": "code",
        "colab": {
          "autoexec": {
            "startup": false,
            "wait_interval": 0
          },
          "base_uri": "https://localhost:8080/",
          "height": 270
        },
        "outputId": "a756cf9c-5967-4a53-d4f7-9c0f8af5ef9e",
        "executionInfo": {
          "status": "ok",
          "timestamp": 1525083220024,
          "user_tz": 180,
          "elapsed": 747,
          "user": {
            "displayName": "Fernando Palacios",
            "photoUrl": "//lh3.googleusercontent.com/-w1q4ZcmPmtY/AAAAAAAAAAI/AAAAAAAAA7o/uvuIghuG18Y/s50-c-k-no/photo.jpg",
            "userId": "117286586872748177478"
          }
        }
      },
      "cell_type": "code",
      "source": [
        "import matplotlib.pyplot as plt\n",
        "%matplotlib inline\n",
        "\n",
        "plt.hist(dataset.Age.dropna(axis=0,how='all'), bins=10, range=(age_min,age_max), edgecolor='black')\n",
        "plt.show()\n"
      ],
      "execution_count": 7,
      "outputs": [
        {
          "output_type": "display_data",
          "data": {
            "image/png": "[encoded data removed]",
            "text/plain": [
              "<matplotlib.figure.Figure at 0x7fe21c5a7940>"
            ]
          },
          "metadata": {
            "tags": []
          }
        }
      ]
    },
    {
      "metadata": {
        "id": "f7FABiKD-rHF",
        "colab_type": "text"
      },
      "cell_type": "markdown",
      "source": [
        "####Respuesta: El gráfico corresponde a una distribución de edad asimétrica"
      ]
    },
    {
      "metadata": {
        "id": "OkITT8jUivKe",
        "colab_type": "text"
      },
      "cell_type": "markdown",
      "source": [
        ""
      ]
    },
    {
      "metadata": {
        "id": "0RNeif4vQqqD",
        "colab_type": "text"
      },
      "cell_type": "markdown",
      "source": [
        "## Histograma de Pesos"
      ]
    },
    {
      "metadata": {
        "id": "8kIgwNIQQ0JO",
        "colab_type": "code",
        "colab": {
          "autoexec": {
            "startup": false,
            "wait_interval": 0
          },
          "base_uri": "https://localhost:8080/",
          "height": 529
        },
        "outputId": "af0a0c48-a01e-479f-f0c0-06d2cf91a44a",
        "executionInfo": {
          "status": "ok",
          "timestamp": 1525083224046,
          "user_tz": 180,
          "elapsed": 916,
          "user": {
            "displayName": "Fernando Palacios",
            "photoUrl": "//lh3.googleusercontent.com/-w1q4ZcmPmtY/AAAAAAAAAAI/AAAAAAAAA7o/uvuIghuG18Y/s50-c-k-no/photo.jpg",
            "userId": "117286586872748177478"
          }
        }
      },
      "cell_type": "code",
      "source": [
        "plt.figure(figsize=(10,8))\n",
        "plt.title('Distribución de pesos')\n",
        "seaborn.distplot(dataset.Weight.dropna(axis=0, how='all'))"
      ],
      "execution_count": 8,
      "outputs": [
        {
          "output_type": "execute_result",
          "data": {
            "text/plain": [
              "<matplotlib.axes._subplots.AxesSubplot at 0x7fe2069a4b38>"
            ]
          },
          "metadata": {
            "tags": []
          },
          "execution_count": 8
        },
        {
          "output_type": "display_data",
          "data": {
            "image/png": "[encoded data removed]",
            "text/plain": [
              "<matplotlib.figure.Figure at 0x7fe2069972e8>"
            ]
          },
          "metadata": {
            "tags": []
          }
        }
      ]
    },
    {
      "metadata": {
        "id": "m1BHnuZLQ-1u",
        "colab_type": "text"
      },
      "cell_type": "markdown",
      "source": [
        "####Respuesta: El gráfico corresponde a una distribución de pesos asimétrica izquierda."
      ]
    },
    {
      "metadata": {
        "id": "ZHQR4yJpdWKy",
        "colab_type": "text"
      },
      "cell_type": "markdown",
      "source": [
        ""
      ]
    },
    {
      "metadata": {
        "id": "UnImwm8VTo5s",
        "colab_type": "text"
      },
      "cell_type": "markdown",
      "source": [
        "##Realizar un análisis de outliers\n",
        "### Outlier de Edad"
      ]
    },
    {
      "metadata": {
        "id": "tZD_ufwSkfkb",
        "colab_type": "code",
        "colab": {
          "autoexec": {
            "startup": false,
            "wait_interval": 0
          },
          "base_uri": "https://localhost:8080/",
          "height": 350
        },
        "outputId": "9da39f06-a6ff-4de2-8e2d-281a968f1685",
        "executionInfo": {
          "status": "ok",
          "timestamp": 1525083229914,
          "user_tz": 180,
          "elapsed": 1279,
          "user": {
            "displayName": "Fernando Palacios",
            "photoUrl": "//lh3.googleusercontent.com/-w1q4ZcmPmtY/AAAAAAAAAAI/AAAAAAAAA7o/uvuIghuG18Y/s50-c-k-no/photo.jpg",
            "userId": "117286586872748177478"
          }
        }
      },
      "cell_type": "code",
      "source": [
        "seaborn.boxplot(x=\"Age\", data=dataset, palette=\"Set3\")\n"
      ],
      "execution_count": 9,
      "outputs": [
        {
          "output_type": "stream",
          "text": [
            "/usr/local/lib/python3.6/dist-packages/seaborn/categorical.py:454: FutureWarning: remove_na is deprecated and is a private function. Do not use.\n",
            "  box_data = remove_na(group_data)\n"
          ],
          "name": "stderr"
        },
        {
          "output_type": "execute_result",
          "data": {
            "text/plain": [
              "<matplotlib.axes._subplots.AxesSubplot at 0x7fe2048c84e0>"
            ]
          },
          "metadata": {
            "tags": []
          },
          "execution_count": 9
        },
        {
          "output_type": "display_data",
          "data": {
            "image/png": "[encoded data removed]",
            "text/plain": [
              "<matplotlib.figure.Figure at 0x7fe22c702da0>"
            ]
          },
          "metadata": {
            "tags": []
          }
        }
      ]
    },
    {
      "metadata": {
        "id": "CHTy92RIT-wy",
        "colab_type": "text"
      },
      "cell_type": "markdown",
      "source": [
        "###Outlier de Peso"
      ]
    },
    {
      "metadata": {
        "id": "97qFEdmAv7ke",
        "colab_type": "code",
        "colab": {
          "autoexec": {
            "startup": false,
            "wait_interval": 0
          },
          "base_uri": "https://localhost:8080/",
          "height": 583
        },
        "outputId": "f0dd09e8-0718-41c8-a6fe-96366f872ba3",
        "executionInfo": {
          "status": "ok",
          "timestamp": 1525083234014,
          "user_tz": 180,
          "elapsed": 702,
          "user": {
            "displayName": "Fernando Palacios",
            "photoUrl": "//lh3.googleusercontent.com/-w1q4ZcmPmtY/AAAAAAAAAAI/AAAAAAAAA7o/uvuIghuG18Y/s50-c-k-no/photo.jpg",
            "userId": "117286586872748177478"
          }
        }
      },
      "cell_type": "code",
      "source": [
        "plt.figure(figsize=(10,8))\n",
        "plt.title('Outlier de Pesos')\n",
        "seaborn.boxplot(x=\"Weight\", data=dataset, palette=\"Set3\")\n"
      ],
      "execution_count": 10,
      "outputs": [
        {
          "output_type": "stream",
          "text": [
            "/usr/local/lib/python3.6/dist-packages/seaborn/categorical.py:454: FutureWarning: remove_na is deprecated and is a private function. Do not use.\n",
            "  box_data = remove_na(group_data)\n"
          ],
          "name": "stderr"
        },
        {
          "output_type": "execute_result",
          "data": {
            "text/plain": [
              "<matplotlib.axes._subplots.AxesSubplot at 0x7fe2047ff940>"
            ]
          },
          "metadata": {
            "tags": []
          },
          "execution_count": 10
        },
        {
          "output_type": "display_data",
          "data": {
            "image/png": "[encoded data removed]",
            "text/plain": [
              "<matplotlib.figure.Figure at 0x7fe2047ffac8>"
            ]
          },
          "metadata": {
            "tags": []
          }
        }
      ]
    },
    {
      "metadata": {
        "id": "OuFn0nqPV3cp",
        "colab_type": "text"
      },
      "cell_type": "markdown",
      "source": [
        "Como se puede observar hay una mayor dispersion de valores de pesos atípicos, por sobrepeso, en comparación con las edades encuestadas.\n"
      ]
    },
    {
      "metadata": {
        "id": "F6oFjdpbUVnu",
        "colab_type": "text"
      },
      "cell_type": "markdown",
      "source": [
        "\n",
        "## Explicar cómo varían las métricas cuando desglosamos por género. \n",
        "\n",
        "###¿Responden a alguna distribución conocida? \n",
        "###Comparar cualitativamente y gráficamente ambas distribuciones. \n",
        "###Calcular la correlación entre todas estas variables y mostrarla con un gráfico conjunto.\n"
      ]
    },
    {
      "metadata": {
        "id": "Szwcz_WeamYB",
        "colab_type": "code",
        "colab": {
          "autoexec": {
            "startup": false,
            "wait_interval": 0
          },
          "base_uri": "https://localhost:8080/",
          "height": 529
        },
        "outputId": "832be78c-4af7-4a46-8d12-e3893b79cea8",
        "executionInfo": {
          "status": "ok",
          "timestamp": 1525083239094,
          "user_tz": 180,
          "elapsed": 964,
          "user": {
            "displayName": "Fernando Palacios",
            "photoUrl": "//lh3.googleusercontent.com/-w1q4ZcmPmtY/AAAAAAAAAAI/AAAAAAAAA7o/uvuIghuG18Y/s50-c-k-no/photo.jpg",
            "userId": "117286586872748177478"
          }
        }
      },
      "cell_type": "code",
      "source": [
        "plt.figure(figsize=(10,8))\n",
        "plt.title('Distribución de pesos en mujeres')\n",
        "seaborn.distplot(dataset_mujeres.Weight.dropna(axis=0, how='all'))\n",
        "\n"
      ],
      "execution_count": 11,
      "outputs": [
        {
          "output_type": "execute_result",
          "data": {
            "text/plain": [
              "<matplotlib.axes._subplots.AxesSubplot at 0x7fe20472a0f0>"
            ]
          },
          "metadata": {
            "tags": []
          },
          "execution_count": 11
        },
        {
          "output_type": "display_data",
          "data": {
            "image/png": "[encoded data removed]",
            "text/plain": [
              "<matplotlib.figure.Figure at 0x7fe20472a828>"
            ]
          },
          "metadata": {
            "tags": []
          }
        }
      ]
    },
    {
      "metadata": {
        "id": "eQMpwxsYbPXb",
        "colab_type": "text"
      },
      "cell_type": "markdown",
      "source": [
        "####La distribución de peso en mujeres se asemeja a una distribución asimétrica"
      ]
    },
    {
      "metadata": {
        "id": "G34YsmdWa_HE",
        "colab_type": "code",
        "colab": {
          "autoexec": {
            "startup": false,
            "wait_interval": 0
          },
          "base_uri": "https://localhost:8080/",
          "height": 529
        },
        "outputId": "9a5e4b80-222a-44d7-e68d-32f852812878",
        "executionInfo": {
          "status": "ok",
          "timestamp": 1525083243710,
          "user_tz": 180,
          "elapsed": 974,
          "user": {
            "displayName": "Fernando Palacios",
            "photoUrl": "//lh3.googleusercontent.com/-w1q4ZcmPmtY/AAAAAAAAAAI/AAAAAAAAA7o/uvuIghuG18Y/s50-c-k-no/photo.jpg",
            "userId": "117286586872748177478"
          }
        }
      },
      "cell_type": "code",
      "source": [
        "plt.figure(figsize=(10,8))\n",
        "plt.title('Distribución de pesos en hombres')\n",
        "seaborn.distplot(dataset_hombres.Weight.dropna(axis=0, how='all'))\n"
      ],
      "execution_count": 12,
      "outputs": [
        {
          "output_type": "execute_result",
          "data": {
            "text/plain": [
              "<matplotlib.axes._subplots.AxesSubplot at 0x7fe20463df98>"
            ]
          },
          "metadata": {
            "tags": []
          },
          "execution_count": 12
        },
        {
          "output_type": "display_data",
          "data": {
            "image/png": "[encoded data removed]",
            "text/plain": [
              "<matplotlib.figure.Figure at 0x7fe20463d710>"
            ]
          },
          "metadata": {
            "tags": []
          }
        }
      ]
    },
    {
      "metadata": {
        "id": "HgBHS50pck6Q",
        "colab_type": "text"
      },
      "cell_type": "markdown",
      "source": [
        "####La distribución de hombres por peso se asemeja a una distribución asimétrica"
      ]
    },
    {
      "metadata": {
        "id": "CnEayj-K3iWO",
        "colab_type": "text"
      },
      "cell_type": "markdown",
      "source": [
        "###Analizamos la cantidad de encuestados por género verificando los nulos\n",
        "\n"
      ]
    },
    {
      "metadata": {
        "id": "MYyyfU5-3pAP",
        "colab_type": "code",
        "colab": {
          "autoexec": {
            "startup": false,
            "wait_interval": 0
          },
          "base_uri": "https://localhost:8080/",
          "height": 142
        },
        "outputId": "2f3d17be-c4d7-4f7b-a8f9-80df8d8e89a2",
        "executionInfo": {
          "status": "ok",
          "timestamp": 1525083247571,
          "user_tz": 180,
          "elapsed": 706,
          "user": {
            "displayName": "Fernando Palacios",
            "photoUrl": "//lh3.googleusercontent.com/-w1q4ZcmPmtY/AAAAAAAAAAI/AAAAAAAAA7o/uvuIghuG18Y/s50-c-k-no/photo.jpg",
            "userId": "117286586872748177478"
          }
        }
      },
      "cell_type": "code",
      "source": [
        "dataset.Gender.value_counts(dropna=False).to_frame()\n",
        "\n",
        "\n"
      ],
      "execution_count": 13,
      "outputs": [
        {
          "output_type": "execute_result",
          "data": {
            "text/html": [
              "<div>\n",
              "<style scoped>\n",
              "    .dataframe tbody tr th:only-of-type {\n",
              "        vertical-align: middle;\n",
              "    }\n",
              "\n",
              "    .dataframe tbody tr th {\n",
              "        vertical-align: top;\n",
              "    }\n",
              "\n",
              "    .dataframe thead th {\n",
              "        text-align: right;\n",
              "    }\n",
              "</style>\n",
              "<table border=\"1\" class=\"dataframe\">\n",
              "  <thead>\n",
              "    <tr style=\"text-align: right;\">\n",
              "      <th></th>\n",
              "      <th>Gender</th>\n",
              "    </tr>\n",
              "  </thead>\n",
              "  <tbody>\n",
              "    <tr>\n",
              "      <th>female</th>\n",
              "      <td>593</td>\n",
              "    </tr>\n",
              "    <tr>\n",
              "      <th>male</th>\n",
              "      <td>411</td>\n",
              "    </tr>\n",
              "    <tr>\n",
              "      <th>NaN</th>\n",
              "      <td>6</td>\n",
              "    </tr>\n",
              "  </tbody>\n",
              "</table>\n",
              "</div>"
            ],
            "text/plain": [
              "        Gender\n",
              "female     593\n",
              "male       411\n",
              "NaN          6"
            ]
          },
          "metadata": {
            "tags": []
          },
          "execution_count": 13
        }
      ]
    },
    {
      "metadata": {
        "id": "d6wJI0XN39a8",
        "colab_type": "text"
      },
      "cell_type": "markdown",
      "source": [
        "Calculando la moda, media, mediana y desviación estándar del peso y de la edad, tenemos lo siguiente:"
      ]
    },
    {
      "metadata": {
        "id": "wHRLyRVeXTlv",
        "colab_type": "code",
        "colab": {
          "autoexec": {
            "startup": false,
            "wait_interval": 0
          },
          "base_uri": "https://localhost:8080/",
          "height": 119
        },
        "outputId": "a3efa04f-47fa-444d-a07d-02fd6b6587a3",
        "executionInfo": {
          "status": "ok",
          "timestamp": 1525083282472,
          "user_tz": 180,
          "elapsed": 853,
          "user": {
            "displayName": "Fernando Palacios",
            "photoUrl": "//lh3.googleusercontent.com/-w1q4ZcmPmtY/AAAAAAAAAAI/AAAAAAAAA7o/uvuIghuG18Y/s50-c-k-no/photo.jpg",
            "userId": "117286586872748177478"
          }
        }
      },
      "cell_type": "code",
      "source": [
        "print ('Pesos  Totales ... Media ', weight_media, '  Mediana ',weight_mediana,' Desviación Standard ',weight_std,' Moda ',weight_moda)\n",
        "print ('Pesos  Mujeres ... Media ',weight_mean_muj,' Mediana ',weight_mediana_muj,' Desviación Standard ',weight_std_muj, '  Moda ',weight_moda_muj)\n",
        "print ('Pesos  Hombres ... Media ',weight_mean_hom,'  Mediana ',weight_mediana_hom,' Desviación Standard ',weight_std_hom, ' Moda ',weight_moda_hom)\n",
        "\n",
        "\n",
        "print ('Edades Totales ... Media ',age_mean,'  Mediana ',age_mediana,' Desviación Standard ',age_std, ' Moda ',age_moda)\n",
        "print ('Edades Mujeres ... Media ',age_mean_muj,' Mediana ',age_mediana_muj,' Desviación Standard ',age_std_muj, '  Moda ',age_moda_muj)\n",
        "print ('Edades Hombres ... Media ',age_mean_muj,' Mediana ',age_mediana_muj,' Desviación Standard ',age_std_muj, '  Moda ',age_moda_muj)"
      ],
      "execution_count": 14,
      "outputs": [
        {
          "output_type": "stream",
          "text": [
            "Pesos  Totales ... Media  66.40505050505051   Mediana  64.0  Desviación Standard  13.832569338065822  Moda  60.0\n",
            "Pesos  Mujeres ... Media  58.963793103448275  Mediana  57.0  Desviación Standard  9.997089201808594   Moda  60.0\n",
            "Pesos  Hombres ... Media  77.08888888888889   Mediana  77.0  Desviación Standard  11.335816721380985  Moda  80.0\n",
            "Edades Totales ... Media  20.43369890329013   Mediana  20.0  Desviación Standard  2.8274295576298125  Moda  19.0\n",
            "Edades Mujeres ... Media  20.113752122241088  Mediana  20.0  Desviación Standard  2.790165425784379   Moda  19.0\n",
            "Edades Hombres ... Media  20.113752122241088  Mediana  20.0  Desviación Standard  2.790165425784379   Moda  19.0\n"
          ],
          "name": "stdout"
        }
      ]
    },
    {
      "metadata": {
        "id": "0P_h4RtnYk1j",
        "colab_type": "text"
      },
      "cell_type": "markdown",
      "source": [
        "Analizando las variables descriptivas se puede observar en los datos con que contamos, los hombres pesan más que las mujeres, siendo la media, moda y mediana de mujeres cerca de los 60kg mientras que en los hombres cerca de los 80kg. La dispersión respecto a los pesos es mayor en varones que en mujeres. \n",
        "\n",
        "Respecto a las edades la muestra es más uniforme ya que tanto para hombres como mujeres los valores de media, mediana y moda se ubican entre los 19 y 20 años y la dispersión es la misma.\n"
      ]
    },
    {
      "metadata": {
        "id": "lfzujKYd1yoH",
        "colab_type": "text"
      },
      "cell_type": "markdown",
      "source": [
        "\n",
        "### Si analizamos las edades por Género, vemos lo siguiente"
      ]
    },
    {
      "metadata": {
        "id": "0X_34QQH1pbE",
        "colab_type": "code",
        "colab": {
          "autoexec": {
            "startup": false,
            "wait_interval": 0
          },
          "base_uri": "https://localhost:8080/",
          "height": 583
        },
        "outputId": "a8575c7c-dd33-49d1-a71f-6e9b398b0eb2",
        "executionInfo": {
          "status": "ok",
          "timestamp": 1525083286050,
          "user_tz": 180,
          "elapsed": 723,
          "user": {
            "displayName": "Fernando Palacios",
            "photoUrl": "//lh3.googleusercontent.com/-w1q4ZcmPmtY/AAAAAAAAAAI/AAAAAAAAA7o/uvuIghuG18Y/s50-c-k-no/photo.jpg",
            "userId": "117286586872748177478"
          }
        }
      },
      "cell_type": "code",
      "source": [
        "plt.figure(figsize=(10,8))\n",
        "plt.title('Outlier de edades y géneros')\n",
        "seaborn.boxplot(x=\"Age\", y=\"Gender\", data=dataset, palette=\"Set3\")\n"
      ],
      "execution_count": 15,
      "outputs": [
        {
          "output_type": "stream",
          "text": [
            "/usr/local/lib/python3.6/dist-packages/seaborn/categorical.py:454: FutureWarning: remove_na is deprecated and is a private function. Do not use.\n",
            "  box_data = remove_na(group_data)\n"
          ],
          "name": "stderr"
        },
        {
          "output_type": "execute_result",
          "data": {
            "text/plain": [
              "<matplotlib.axes._subplots.AxesSubplot at 0x7fe2045ed7b8>"
            ]
          },
          "metadata": {
            "tags": []
          },
          "execution_count": 15
        },
        {
          "output_type": "display_data",
          "data": {
            "image/png": "[encoded data removed]",
            "text/plain": [
              "<matplotlib.figure.Figure at 0x7fe2045ede80>"
            ]
          },
          "metadata": {
            "tags": []
          }
        }
      ]
    },
    {
      "metadata": {
        "id": "UPtpH_7R2CdW",
        "colab_type": "text"
      },
      "cell_type": "markdown",
      "source": [
        "Vemos que en ambos casos la mediana es la misma (20).\n",
        "En el caso de las mujeres hay edades menores que en los hombres.\n",
        "Pero en los outlier tienen igual presencia.\n",
        "\n"
      ]
    },
    {
      "metadata": {
        "id": "CdbQwFvF4r20",
        "colab_type": "text"
      },
      "cell_type": "markdown",
      "source": [
        "###Si analizamos los pesos por Género"
      ]
    },
    {
      "metadata": {
        "id": "I3ubfrD3h8os",
        "colab_type": "code",
        "colab": {
          "autoexec": {
            "startup": false,
            "wait_interval": 0
          },
          "base_uri": "https://localhost:8080/",
          "height": 2000
        },
        "outputId": "9ae475d9-d252-4408-c840-5d90dc94385a",
        "executionInfo": {
          "status": "ok",
          "timestamp": 1525083290443,
          "user_tz": 180,
          "elapsed": 748,
          "user": {
            "displayName": "Fernando Palacios",
            "photoUrl": "//lh3.googleusercontent.com/-w1q4ZcmPmtY/AAAAAAAAAAI/AAAAAAAAA7o/uvuIghuG18Y/s50-c-k-no/photo.jpg",
            "userId": "117286586872748177478"
          }
        }
      },
      "cell_type": "code",
      "source": [
        "tipo_joint = pandas.crosstab(index=dataset['Weight'], columns=dataset['Gender'], margins=True, normalize=False )\n",
        "tipo_joint"
      ],
      "execution_count": 16,
      "outputs": [
        {
          "output_type": "execute_result",
          "data": {
            "text/html": [
              "<div>\n",
              "<style scoped>\n",
              "    .dataframe tbody tr th:only-of-type {\n",
              "        vertical-align: middle;\n",
              "    }\n",
              "\n",
              "    .dataframe tbody tr th {\n",
              "        vertical-align: top;\n",
              "    }\n",
              "\n",
              "    .dataframe thead th {\n",
              "        text-align: right;\n",
              "    }\n",
              "</style>\n",
              "<table border=\"1\" class=\"dataframe\">\n",
              "  <thead>\n",
              "    <tr style=\"text-align: right;\">\n",
              "      <th>Gender</th>\n",
              "      <th>female</th>\n",
              "      <th>male</th>\n",
              "      <th>All</th>\n",
              "    </tr>\n",
              "    <tr>\n",
              "      <th>Weight</th>\n",
              "      <th></th>\n",
              "      <th></th>\n",
              "      <th></th>\n",
              "    </tr>\n",
              "  </thead>\n",
              "  <tbody>\n",
              "    <tr>\n",
              "      <th>41.0</th>\n",
              "      <td>1</td>\n",
              "      <td>0</td>\n",
              "      <td>1</td>\n",
              "    </tr>\n",
              "    <tr>\n",
              "      <th>42.0</th>\n",
              "      <td>1</td>\n",
              "      <td>0</td>\n",
              "      <td>1</td>\n",
              "    </tr>\n",
              "    <tr>\n",
              "      <th>43.0</th>\n",
              "      <td>2</td>\n",
              "      <td>0</td>\n",
              "      <td>2</td>\n",
              "    </tr>\n",
              "    <tr>\n",
              "      <th>44.0</th>\n",
              "      <td>3</td>\n",
              "      <td>0</td>\n",
              "      <td>3</td>\n",
              "    </tr>\n",
              "    <tr>\n",
              "      <th>45.0</th>\n",
              "      <td>5</td>\n",
              "      <td>0</td>\n",
              "      <td>5</td>\n",
              "    </tr>\n",
              "    <tr>\n",
              "      <th>46.0</th>\n",
              "      <td>5</td>\n",
              "      <td>0</td>\n",
              "      <td>5</td>\n",
              "    </tr>\n",
              "    <tr>\n",
              "      <th>47.0</th>\n",
              "      <td>8</td>\n",
              "      <td>0</td>\n",
              "      <td>8</td>\n",
              "    </tr>\n",
              "    <tr>\n",
              "      <th>48.0</th>\n",
              "      <td>21</td>\n",
              "      <td>0</td>\n",
              "      <td>21</td>\n",
              "    </tr>\n",
              "    <tr>\n",
              "      <th>49.0</th>\n",
              "      <td>13</td>\n",
              "      <td>0</td>\n",
              "      <td>13</td>\n",
              "    </tr>\n",
              "    <tr>\n",
              "      <th>50.0</th>\n",
              "      <td>41</td>\n",
              "      <td>0</td>\n",
              "      <td>41</td>\n",
              "    </tr>\n",
              "    <tr>\n",
              "      <th>51.0</th>\n",
              "      <td>14</td>\n",
              "      <td>0</td>\n",
              "      <td>14</td>\n",
              "    </tr>\n",
              "    <tr>\n",
              "      <th>52.0</th>\n",
              "      <td>23</td>\n",
              "      <td>0</td>\n",
              "      <td>23</td>\n",
              "    </tr>\n",
              "    <tr>\n",
              "      <th>53.0</th>\n",
              "      <td>27</td>\n",
              "      <td>1</td>\n",
              "      <td>28</td>\n",
              "    </tr>\n",
              "    <tr>\n",
              "      <th>54.0</th>\n",
              "      <td>23</td>\n",
              "      <td>0</td>\n",
              "      <td>23</td>\n",
              "    </tr>\n",
              "    <tr>\n",
              "      <th>55.0</th>\n",
              "      <td>59</td>\n",
              "      <td>3</td>\n",
              "      <td>62</td>\n",
              "    </tr>\n",
              "    <tr>\n",
              "      <th>56.0</th>\n",
              "      <td>17</td>\n",
              "      <td>4</td>\n",
              "      <td>21</td>\n",
              "    </tr>\n",
              "    <tr>\n",
              "      <th>57.0</th>\n",
              "      <td>30</td>\n",
              "      <td>1</td>\n",
              "      <td>31</td>\n",
              "    </tr>\n",
              "    <tr>\n",
              "      <th>58.0</th>\n",
              "      <td>31</td>\n",
              "      <td>0</td>\n",
              "      <td>31</td>\n",
              "    </tr>\n",
              "    <tr>\n",
              "      <th>59.0</th>\n",
              "      <td>8</td>\n",
              "      <td>1</td>\n",
              "      <td>9</td>\n",
              "    </tr>\n",
              "    <tr>\n",
              "      <th>60.0</th>\n",
              "      <td>61</td>\n",
              "      <td>15</td>\n",
              "      <td>76</td>\n",
              "    </tr>\n",
              "    <tr>\n",
              "      <th>61.0</th>\n",
              "      <td>7</td>\n",
              "      <td>0</td>\n",
              "      <td>7</td>\n",
              "    </tr>\n",
              "    <tr>\n",
              "      <th>62.0</th>\n",
              "      <td>19</td>\n",
              "      <td>7</td>\n",
              "      <td>26</td>\n",
              "    </tr>\n",
              "    <tr>\n",
              "      <th>63.0</th>\n",
              "      <td>23</td>\n",
              "      <td>5</td>\n",
              "      <td>28</td>\n",
              "    </tr>\n",
              "    <tr>\n",
              "      <th>64.0</th>\n",
              "      <td>11</td>\n",
              "      <td>7</td>\n",
              "      <td>18</td>\n",
              "    </tr>\n",
              "    <tr>\n",
              "      <th>65.0</th>\n",
              "      <td>27</td>\n",
              "      <td>21</td>\n",
              "      <td>48</td>\n",
              "    </tr>\n",
              "    <tr>\n",
              "      <th>66.0</th>\n",
              "      <td>4</td>\n",
              "      <td>5</td>\n",
              "      <td>9</td>\n",
              "    </tr>\n",
              "    <tr>\n",
              "      <th>67.0</th>\n",
              "      <td>10</td>\n",
              "      <td>8</td>\n",
              "      <td>18</td>\n",
              "    </tr>\n",
              "    <tr>\n",
              "      <th>68.0</th>\n",
              "      <td>11</td>\n",
              "      <td>12</td>\n",
              "      <td>23</td>\n",
              "    </tr>\n",
              "    <tr>\n",
              "      <th>69.0</th>\n",
              "      <td>7</td>\n",
              "      <td>3</td>\n",
              "      <td>10</td>\n",
              "    </tr>\n",
              "    <tr>\n",
              "      <th>70.0</th>\n",
              "      <td>20</td>\n",
              "      <td>31</td>\n",
              "      <td>51</td>\n",
              "    </tr>\n",
              "    <tr>\n",
              "      <th>...</th>\n",
              "      <td>...</td>\n",
              "      <td>...</td>\n",
              "      <td>...</td>\n",
              "    </tr>\n",
              "    <tr>\n",
              "      <th>81.0</th>\n",
              "      <td>0</td>\n",
              "      <td>7</td>\n",
              "      <td>7</td>\n",
              "    </tr>\n",
              "    <tr>\n",
              "      <th>82.0</th>\n",
              "      <td>0</td>\n",
              "      <td>11</td>\n",
              "      <td>11</td>\n",
              "    </tr>\n",
              "    <tr>\n",
              "      <th>83.0</th>\n",
              "      <td>1</td>\n",
              "      <td>14</td>\n",
              "      <td>15</td>\n",
              "    </tr>\n",
              "    <tr>\n",
              "      <th>84.0</th>\n",
              "      <td>0</td>\n",
              "      <td>7</td>\n",
              "      <td>7</td>\n",
              "    </tr>\n",
              "    <tr>\n",
              "      <th>85.0</th>\n",
              "      <td>2</td>\n",
              "      <td>18</td>\n",
              "      <td>20</td>\n",
              "    </tr>\n",
              "    <tr>\n",
              "      <th>86.0</th>\n",
              "      <td>1</td>\n",
              "      <td>3</td>\n",
              "      <td>4</td>\n",
              "    </tr>\n",
              "    <tr>\n",
              "      <th>87.0</th>\n",
              "      <td>0</td>\n",
              "      <td>3</td>\n",
              "      <td>3</td>\n",
              "    </tr>\n",
              "    <tr>\n",
              "      <th>88.0</th>\n",
              "      <td>1</td>\n",
              "      <td>7</td>\n",
              "      <td>8</td>\n",
              "    </tr>\n",
              "    <tr>\n",
              "      <th>89.0</th>\n",
              "      <td>0</td>\n",
              "      <td>5</td>\n",
              "      <td>5</td>\n",
              "    </tr>\n",
              "    <tr>\n",
              "      <th>90.0</th>\n",
              "      <td>2</td>\n",
              "      <td>15</td>\n",
              "      <td>17</td>\n",
              "    </tr>\n",
              "    <tr>\n",
              "      <th>91.0</th>\n",
              "      <td>0</td>\n",
              "      <td>2</td>\n",
              "      <td>2</td>\n",
              "    </tr>\n",
              "    <tr>\n",
              "      <th>92.0</th>\n",
              "      <td>0</td>\n",
              "      <td>4</td>\n",
              "      <td>4</td>\n",
              "    </tr>\n",
              "    <tr>\n",
              "      <th>93.0</th>\n",
              "      <td>0</td>\n",
              "      <td>3</td>\n",
              "      <td>3</td>\n",
              "    </tr>\n",
              "    <tr>\n",
              "      <th>95.0</th>\n",
              "      <td>0</td>\n",
              "      <td>5</td>\n",
              "      <td>5</td>\n",
              "    </tr>\n",
              "    <tr>\n",
              "      <th>96.0</th>\n",
              "      <td>0</td>\n",
              "      <td>3</td>\n",
              "      <td>3</td>\n",
              "    </tr>\n",
              "    <tr>\n",
              "      <th>97.0</th>\n",
              "      <td>0</td>\n",
              "      <td>2</td>\n",
              "      <td>2</td>\n",
              "    </tr>\n",
              "    <tr>\n",
              "      <th>98.0</th>\n",
              "      <td>0</td>\n",
              "      <td>3</td>\n",
              "      <td>3</td>\n",
              "    </tr>\n",
              "    <tr>\n",
              "      <th>99.0</th>\n",
              "      <td>0</td>\n",
              "      <td>1</td>\n",
              "      <td>1</td>\n",
              "    </tr>\n",
              "    <tr>\n",
              "      <th>100.0</th>\n",
              "      <td>0</td>\n",
              "      <td>3</td>\n",
              "      <td>3</td>\n",
              "    </tr>\n",
              "    <tr>\n",
              "      <th>101.0</th>\n",
              "      <td>0</td>\n",
              "      <td>1</td>\n",
              "      <td>1</td>\n",
              "    </tr>\n",
              "    <tr>\n",
              "      <th>103.0</th>\n",
              "      <td>0</td>\n",
              "      <td>1</td>\n",
              "      <td>1</td>\n",
              "    </tr>\n",
              "    <tr>\n",
              "      <th>105.0</th>\n",
              "      <td>0</td>\n",
              "      <td>1</td>\n",
              "      <td>1</td>\n",
              "    </tr>\n",
              "    <tr>\n",
              "      <th>110.0</th>\n",
              "      <td>0</td>\n",
              "      <td>1</td>\n",
              "      <td>1</td>\n",
              "    </tr>\n",
              "    <tr>\n",
              "      <th>111.0</th>\n",
              "      <td>0</td>\n",
              "      <td>1</td>\n",
              "      <td>1</td>\n",
              "    </tr>\n",
              "    <tr>\n",
              "      <th>113.0</th>\n",
              "      <td>0</td>\n",
              "      <td>1</td>\n",
              "      <td>1</td>\n",
              "    </tr>\n",
              "    <tr>\n",
              "      <th>120.0</th>\n",
              "      <td>2</td>\n",
              "      <td>1</td>\n",
              "      <td>3</td>\n",
              "    </tr>\n",
              "    <tr>\n",
              "      <th>125.0</th>\n",
              "      <td>0</td>\n",
              "      <td>1</td>\n",
              "      <td>1</td>\n",
              "    </tr>\n",
              "    <tr>\n",
              "      <th>150.0</th>\n",
              "      <td>0</td>\n",
              "      <td>1</td>\n",
              "      <td>1</td>\n",
              "    </tr>\n",
              "    <tr>\n",
              "      <th>165.0</th>\n",
              "      <td>1</td>\n",
              "      <td>0</td>\n",
              "      <td>1</td>\n",
              "    </tr>\n",
              "    <tr>\n",
              "      <th>All</th>\n",
              "      <td>580</td>\n",
              "      <td>405</td>\n",
              "      <td>985</td>\n",
              "    </tr>\n",
              "  </tbody>\n",
              "</table>\n",
              "<p>70 rows × 3 columns</p>\n",
              "</div>"
            ],
            "text/plain": [
              "Gender  female  male  All\n",
              "Weight                   \n",
              "41.0         1     0    1\n",
              "42.0         1     0    1\n",
              "43.0         2     0    2\n",
              "44.0         3     0    3\n",
              "45.0         5     0    5\n",
              "46.0         5     0    5\n",
              "47.0         8     0    8\n",
              "48.0        21     0   21\n",
              "49.0        13     0   13\n",
              "50.0        41     0   41\n",
              "51.0        14     0   14\n",
              "52.0        23     0   23\n",
              "53.0        27     1   28\n",
              "54.0        23     0   23\n",
              "55.0        59     3   62\n",
              "56.0        17     4   21\n",
              "57.0        30     1   31\n",
              "58.0        31     0   31\n",
              "59.0         8     1    9\n",
              "60.0        61    15   76\n",
              "61.0         7     0    7\n",
              "62.0        19     7   26\n",
              "63.0        23     5   28\n",
              "64.0        11     7   18\n",
              "65.0        27    21   48\n",
              "66.0         4     5    9\n",
              "67.0        10     8   18\n",
              "68.0        11    12   23\n",
              "69.0         7     3   10\n",
              "70.0        20    31   51\n",
              "...        ...   ...  ...\n",
              "81.0         0     7    7\n",
              "82.0         0    11   11\n",
              "83.0         1    14   15\n",
              "84.0         0     7    7\n",
              "85.0         2    18   20\n",
              "86.0         1     3    4\n",
              "87.0         0     3    3\n",
              "88.0         1     7    8\n",
              "89.0         0     5    5\n",
              "90.0         2    15   17\n",
              "91.0         0     2    2\n",
              "92.0         0     4    4\n",
              "93.0         0     3    3\n",
              "95.0         0     5    5\n",
              "96.0         0     3    3\n",
              "97.0         0     2    2\n",
              "98.0         0     3    3\n",
              "99.0         0     1    1\n",
              "100.0        0     3    3\n",
              "101.0        0     1    1\n",
              "103.0        0     1    1\n",
              "105.0        0     1    1\n",
              "110.0        0     1    1\n",
              "111.0        0     1    1\n",
              "113.0        0     1    1\n",
              "120.0        2     1    3\n",
              "125.0        0     1    1\n",
              "150.0        0     1    1\n",
              "165.0        1     0    1\n",
              "All        580   405  985\n",
              "\n",
              "[70 rows x 3 columns]"
            ]
          },
          "metadata": {
            "tags": []
          },
          "execution_count": 16
        }
      ]
    },
    {
      "metadata": {
        "id": "eCW5dJDG41U0",
        "colab_type": "text"
      },
      "cell_type": "markdown",
      "source": [
        "Existen personas en ambos Géneros que se encuentran con mucho sobrepeso.\n",
        "Visto en un gráfico usando bloxplot vemos estos outlier claramente"
      ]
    },
    {
      "metadata": {
        "id": "DnRnTTZtgzs9",
        "colab_type": "code",
        "colab": {
          "autoexec": {
            "startup": false,
            "wait_interval": 0
          },
          "base_uri": "https://localhost:8080/",
          "height": 583
        },
        "outputId": "d574ebf7-3cba-4584-ed83-d60b3f4ea2e6",
        "executionInfo": {
          "status": "ok",
          "timestamp": 1525083300759,
          "user_tz": 180,
          "elapsed": 1903,
          "user": {
            "displayName": "Fernando Palacios",
            "photoUrl": "//lh3.googleusercontent.com/-w1q4ZcmPmtY/AAAAAAAAAAI/AAAAAAAAA7o/uvuIghuG18Y/s50-c-k-no/photo.jpg",
            "userId": "117286586872748177478"
          }
        }
      },
      "cell_type": "code",
      "source": [
        "plt.figure(figsize=(10,8))\n",
        "plt.title('Outliers de pesos por género')\n",
        "seaborn.boxplot(x=\"Weight\", y=\"Gender\", data=dataset, palette=\"Set3\")\n"
      ],
      "execution_count": 17,
      "outputs": [
        {
          "output_type": "stream",
          "text": [
            "/usr/local/lib/python3.6/dist-packages/seaborn/categorical.py:454: FutureWarning: remove_na is deprecated and is a private function. Do not use.\n",
            "  box_data = remove_na(group_data)\n"
          ],
          "name": "stderr"
        },
        {
          "output_type": "execute_result",
          "data": {
            "text/plain": [
              "<matplotlib.axes._subplots.AxesSubplot at 0x7fe2045e1d68>"
            ]
          },
          "metadata": {
            "tags": []
          },
          "execution_count": 17
        },
        {
          "output_type": "display_data",
          "data": {
            "image/png": "[encoded data removed]",
            "text/plain": [
              "<matplotlib.figure.Figure at 0x7fe2045e1cf8>"
            ]
          },
          "metadata": {
            "tags": []
          }
        }
      ]
    },
    {
      "metadata": {
        "id": "bYduhm5rYExr",
        "colab_type": "text"
      },
      "cell_type": "markdown",
      "source": [
        "Se nota claramente que los hombres con más pesadas que en las mujeres,  que vimos demasiada dispersión en las edades."
      ]
    },
    {
      "metadata": {
        "id": "YNj1APojNMSW",
        "colab_type": "text"
      },
      "cell_type": "markdown",
      "source": [
        "###Analizando la correlacion Edad, Peso en un mapa de calor, se aprecia lo siguiente:"
      ]
    },
    {
      "metadata": {
        "id": "3DIKsT5GNTdW",
        "colab_type": "code",
        "colab": {
          "autoexec": {
            "startup": false,
            "wait_interval": 0
          },
          "base_uri": "https://localhost:8080/",
          "height": 303
        },
        "outputId": "4b6084c2-cd4a-45a8-88da-8dc5fd389bb2",
        "executionInfo": {
          "status": "ok",
          "timestamp": 1525083364689,
          "user_tz": 180,
          "elapsed": 1903,
          "user": {
            "displayName": "Fernando Palacios",
            "photoUrl": "//lh3.googleusercontent.com/-w1q4ZcmPmtY/AAAAAAAAAAI/AAAAAAAAA7o/uvuIghuG18Y/s50-c-k-no/photo.jpg",
            "userId": "117286586872748177478"
          }
        }
      },
      "cell_type": "code",
      "source": [
        "encuesta_joint_freq = pandas.crosstab(index=dataset['Age'].dropna(how='all'),\n",
        "            columns=dataset['Weight'], margins=False, normalize=True )\n",
        "\n",
        "\n",
        "plt.figure(figsize=(15,18))\n",
        "plt.title('Correlación de edades y pesos')\n",
        "plt.rcParams['figure.figsize'] = (20.0, 10.0)\n",
        "\n",
        "\n",
        "seaborn.heatmap(encuesta_joint_freq, annot=False, cmap='coolwarm', cbar=False, square=True)\n"
      ],
      "execution_count": 20,
      "outputs": [
        {
          "output_type": "execute_result",
          "data": {
            "text/plain": [
              "<matplotlib.axes._subplots.AxesSubplot at 0x7fe204442908>"
            ]
          },
          "metadata": {
            "tags": []
          },
          "execution_count": 20
        },
        {
          "output_type": "display_data",
          "data": {
            "image/png": "[encoded data removed]",
            "text/plain": [
              "<matplotlib.figure.Figure at 0x7fe2044570b8>"
            ]
          },
          "metadata": {
            "tags": []
          }
        }
      ]
    },
    {
      "metadata": {
        "id": "p1ws4hHfQaZ2",
        "colab_type": "text"
      },
      "cell_type": "markdown",
      "source": [
        "El peso de los encuestados se encuentra en un rango más amplio con respecto a la edad de los mismos.\n"
      ]
    },
    {
      "metadata": {
        "id": "87zt4-KQTIlk",
        "colab_type": "text"
      },
      "cell_type": "markdown",
      "source": [
        "##Mapa de Calor de Mujeres"
      ]
    },
    {
      "metadata": {
        "id": "eavV0xsKQLau",
        "colab_type": "code",
        "colab": {
          "autoexec": {
            "startup": false,
            "wait_interval": 0
          },
          "base_uri": "https://localhost:8080/",
          "height": 394
        },
        "outputId": "5cb9336b-acac-4588-ebbf-472112e6375b",
        "executionInfo": {
          "status": "ok",
          "timestamp": 1525083383121,
          "user_tz": 180,
          "elapsed": 1027,
          "user": {
            "displayName": "Fernando Palacios",
            "photoUrl": "//lh3.googleusercontent.com/-w1q4ZcmPmtY/AAAAAAAAAAI/AAAAAAAAA7o/uvuIghuG18Y/s50-c-k-no/photo.jpg",
            "userId": "117286586872748177478"
          }
        }
      },
      "cell_type": "code",
      "source": [
        "\n",
        "encuesta_mujeres_joint_freq = pandas.crosstab(index=dataset_mujeres['Age'].dropna(how='all'),\n",
        "            columns=dataset_mujeres['Weight'], margins=False, normalize=True )\n",
        "\n",
        "\n",
        "plt.figure(figsize=(15,18))\n",
        "plt.title('Correlación de edades y pesos en mujeres')\n",
        "\n",
        "plt.rcParams['figure.figsize'] = (20.0, 10.0)\n",
        "\n",
        "\n",
        "seaborn.heatmap(encuesta_mujeres_joint_freq, annot=False, cmap='coolwarm', cbar=False, square=True)\n"
      ],
      "execution_count": 21,
      "outputs": [
        {
          "output_type": "execute_result",
          "data": {
            "text/plain": [
              "<matplotlib.axes._subplots.AxesSubplot at 0x7fe2041ad7b8>"
            ]
          },
          "metadata": {
            "tags": []
          },
          "execution_count": 21
        },
        {
          "output_type": "display_data",
          "data": {
            "image/png": "[encoded data removed]",
            "text/plain": [
              "<matplotlib.figure.Figure at 0x7fe2041ade48>"
            ]
          },
          "metadata": {
            "tags": []
          }
        }
      ]
    },
    {
      "metadata": {
        "id": "ldz2Iy6O55dN",
        "colab_type": "text"
      },
      "cell_type": "markdown",
      "source": [
        "En este caso el peso de las mujeres encuestadas están más concentradas entre los 55 y 60 kilos, con edades entre los 18 y 20 años."
      ]
    },
    {
      "metadata": {
        "id": "dPq5HJzQUQFJ",
        "colab_type": "text"
      },
      "cell_type": "markdown",
      "source": [
        "##Mapa de Calor de Hombres"
      ]
    },
    {
      "metadata": {
        "id": "paxk9cPWUTFD",
        "colab_type": "code",
        "colab": {
          "autoexec": {
            "startup": false,
            "wait_interval": 0
          },
          "base_uri": "https://localhost:8080/",
          "height": 362
        },
        "outputId": "3bd8d978-3485-4d1c-cff8-c5a070406a2b",
        "executionInfo": {
          "status": "ok",
          "timestamp": 1525083397347,
          "user_tz": 180,
          "elapsed": 1314,
          "user": {
            "displayName": "Fernando Palacios",
            "photoUrl": "//lh3.googleusercontent.com/-w1q4ZcmPmtY/AAAAAAAAAAI/AAAAAAAAA7o/uvuIghuG18Y/s50-c-k-no/photo.jpg",
            "userId": "117286586872748177478"
          }
        }
      },
      "cell_type": "code",
      "source": [
        "\n",
        "encuesta_hombres_joint_freq = pandas.crosstab(index=dataset_hombres['Age'].dropna(how='all'),\n",
        "            columns=dataset_hombres['Weight'], margins=False, normalize=True )\n",
        "plt.rcParams['figure.figsize'] = (20.0, 10.0)\n",
        "\n",
        "\n",
        "plt.figure(figsize=(15,18))\n",
        "plt.title('Correlación de edades y pesos en hombres')\n",
        "\n",
        "\n",
        "seaborn.heatmap(encuesta_hombres_joint_freq, annot=False, cmap='coolwarm', cbar=False, square=True)"
      ],
      "execution_count": 22,
      "outputs": [
        {
          "output_type": "execute_result",
          "data": {
            "text/plain": [
              "<matplotlib.axes._subplots.AxesSubplot at 0x7fe20415d780>"
            ]
          },
          "metadata": {
            "tags": []
          },
          "execution_count": 22
        },
        {
          "output_type": "display_data",
          "data": {
            "image/png": "[encoded data removed]",
            "text/plain": [
              "<matplotlib.figure.Figure at 0x7fe2044cde48>"
            ]
          },
          "metadata": {
            "tags": []
          }
        }
      ]
    },
    {
      "metadata": {
        "id": "kxFPnC-H7BST",
        "colab_type": "text"
      },
      "cell_type": "markdown",
      "source": [
        "En el caso de los hombres el peso se concentra entre los 65 y 80 kilos, con edades entre los 19 y 22 años."
      ]
    },
    {
      "metadata": {
        "id": "x4v8ZCEz70Vj",
        "colab_type": "text"
      },
      "cell_type": "markdown",
      "source": [
        "###Otra forma de combinar el análisis, lo podemos realizar de la siguiente manera"
      ]
    },
    {
      "metadata": {
        "id": "ZbHa-AxWd5OV",
        "colab_type": "code",
        "colab": {
          "autoexec": {
            "startup": false,
            "wait_interval": 0
          },
          "base_uri": "https://localhost:8080/",
          "height": 475
        },
        "outputId": "dd50529a-beb3-4bec-e55e-b30997efac51",
        "executionInfo": {
          "status": "ok",
          "timestamp": 1525083483081,
          "user_tz": 180,
          "elapsed": 1131,
          "user": {
            "displayName": "Fernando Palacios",
            "photoUrl": "//lh3.googleusercontent.com/-w1q4ZcmPmtY/AAAAAAAAAAI/AAAAAAAAA7o/uvuIghuG18Y/s50-c-k-no/photo.jpg",
            "userId": "117286586872748177478"
          }
        }
      },
      "cell_type": "code",
      "source": [
        "print('Correlación entre Edad y Peso')\n",
        "seaborn.jointplot(x=dataset[\"Age\"].dropna(how='all'), y=dataset[\"Weight\"].dropna(how='all'), kind='hex')"
      ],
      "execution_count": 25,
      "outputs": [
        {
          "output_type": "stream",
          "text": [
            "Correlación entre Edad y Peso\n"
          ],
          "name": "stdout"
        },
        {
          "output_type": "execute_result",
          "data": {
            "text/plain": [
              "<seaborn.axisgrid.JointGrid at 0x7fe203d2ccf8>"
            ]
          },
          "metadata": {
            "tags": []
          },
          "execution_count": 25
        },
        {
          "output_type": "display_data",
          "data": {
            "image/png": "[encoded data removed]",
            "text/plain": [
              "<matplotlib.figure.Figure at 0x7fe203d2cd68>"
            ]
          },
          "metadata": {
            "tags": []
          }
        }
      ]
    },
    {
      "metadata": {
        "id": "mpfUAtDPnF3O",
        "colab_type": "code",
        "colab": {
          "autoexec": {
            "startup": false,
            "wait_interval": 0
          }
        }
      },
      "cell_type": "code",
      "source": [
        ""
      ],
      "execution_count": 0,
      "outputs": []
    },
    {
      "metadata": {
        "id": "Cpja4jcvm1KY",
        "colab_type": "text"
      },
      "cell_type": "markdown",
      "source": [
        "En este caso se refleja el mapa de calor combinado con las distribuciones de peso y edad.\n",
        "Este mismo gráfico lo podemos aplicar al análisis de las mujeres y  de los hombres:"
      ]
    },
    {
      "metadata": {
        "id": "9-px-xmGgMvq",
        "colab_type": "code",
        "colab": {
          "autoexec": {
            "startup": false,
            "wait_interval": 0
          },
          "base_uri": "https://localhost:8080/",
          "height": 475
        },
        "outputId": "2f832925-cf05-4cc1-e039-78082c393771",
        "executionInfo": {
          "status": "ok",
          "timestamp": 1525083473465,
          "user_tz": 180,
          "elapsed": 1354,
          "user": {
            "displayName": "Fernando Palacios",
            "photoUrl": "//lh3.googleusercontent.com/-w1q4ZcmPmtY/AAAAAAAAAAI/AAAAAAAAA7o/uvuIghuG18Y/s50-c-k-no/photo.jpg",
            "userId": "117286586872748177478"
          }
        }
      },
      "cell_type": "code",
      "source": [
        "print('Correlación entre Edad y Peso en Mujeres')\n",
        "\n",
        "\n",
        "seaborn.jointplot(x=dataset_mujeres[\"Age\"].dropna(how='all'), y=dataset_mujeres[\"Weight\"].dropna(how='all'), kind='hex')\n",
        "\n"
      ],
      "execution_count": 24,
      "outputs": [
        {
          "output_type": "stream",
          "text": [
            "Correlación entre Edad y Peso en Mujeres\n"
          ],
          "name": "stdout"
        },
        {
          "output_type": "execute_result",
          "data": {
            "text/plain": [
              "<seaborn.axisgrid.JointGrid at 0x7fe203ee0cf8>"
            ]
          },
          "metadata": {
            "tags": []
          },
          "execution_count": 24
        },
        {
          "output_type": "display_data",
          "data": {
            "image/png": "[encoded data removed]",
            "text/plain": [
              "<matplotlib.figure.Figure at 0x7fe203ee0c88>"
            ]
          },
          "metadata": {
            "tags": []
          }
        }
      ]
    },
    {
      "metadata": {
        "id": "toCEZrM9gOBA",
        "colab_type": "code",
        "colab": {
          "autoexec": {
            "startup": false,
            "wait_interval": 0
          },
          "base_uri": "https://localhost:8080/",
          "height": 475
        },
        "outputId": "b87e28f6-f97f-4780-9a31-c4b4f66043ca",
        "executionInfo": {
          "status": "ok",
          "timestamp": 1525083496928,
          "user_tz": 180,
          "elapsed": 1110,
          "user": {
            "displayName": "Fernando Palacios",
            "photoUrl": "//lh3.googleusercontent.com/-w1q4ZcmPmtY/AAAAAAAAAAI/AAAAAAAAA7o/uvuIghuG18Y/s50-c-k-no/photo.jpg",
            "userId": "117286586872748177478"
          }
        }
      },
      "cell_type": "code",
      "source": [
        "print('Correlación entre Edad y Peso en Hombres')\n",
        "\n",
        "seaborn.jointplot(x=dataset_hombres[\"Age\"].dropna(how='all'), y=dataset_hombres[\"Weight\"].dropna(how='all'), kind='hex')\n"
      ],
      "execution_count": 26,
      "outputs": [
        {
          "output_type": "stream",
          "text": [
            "Correlación entre Edad y Peso en Hombres\n"
          ],
          "name": "stdout"
        },
        {
          "output_type": "execute_result",
          "data": {
            "text/plain": [
              "<seaborn.axisgrid.JointGrid at 0x7fe203c21828>"
            ]
          },
          "metadata": {
            "tags": []
          },
          "execution_count": 26
        },
        {
          "output_type": "display_data",
          "data": {
            "image/png": "[encoded data removed]",
            "text/plain": [
              "<matplotlib.figure.Figure at 0x7fe203c212b0>"
            ]
          },
          "metadata": {
            "tags": []
          }
        }
      ]
    },
    {
      "metadata": {
        "id": "_nK4PEUb81xU",
        "colab_type": "text"
      },
      "cell_type": "markdown",
      "source": [
        "#Calcular la probabilidad marginal y conjunta, y la correlación entre otras dos variables, por ejemplo consumo de alcohol y tabaquismo."
      ]
    },
    {
      "metadata": {
        "id": "SKoIJuF-TRsC",
        "colab_type": "code",
        "colab": {
          "autoexec": {
            "startup": false,
            "wait_interval": 0
          },
          "base_uri": "https://localhost:8080/",
          "height": 204
        },
        "outputId": "78e2e3a6-6daf-4a6b-e023-9172e72bc078",
        "executionInfo": {
          "status": "ok",
          "timestamp": 1525087415489,
          "user_tz": 180,
          "elapsed": 736,
          "user": {
            "displayName": "Fernando Palacios",
            "photoUrl": "//lh3.googleusercontent.com/-w1q4ZcmPmtY/AAAAAAAAAAI/AAAAAAAAA7o/uvuIghuG18Y/s50-c-k-no/photo.jpg",
            "userId": "117286586872748177478"
          }
        }
      },
      "cell_type": "code",
      "source": [
        "# Probabilidad Marginal y Conjunta\n",
        "\n",
        "tipo_joint_freq = pandas.crosstab(index=dataset['Alcohol'].dropna(how='all'), columns=dataset['Smoking'].dropna(how='all'), margins=True, normalize=True)\n",
        "\n",
        "tipo_joint_freq\n"
      ],
      "execution_count": 96,
      "outputs": [
        {
          "output_type": "execute_result",
          "data": {
            "text/html": [
              "<div>\n",
              "<style scoped>\n",
              "    .dataframe tbody tr th:only-of-type {\n",
              "        vertical-align: middle;\n",
              "    }\n",
              "\n",
              "    .dataframe tbody tr th {\n",
              "        vertical-align: top;\n",
              "    }\n",
              "\n",
              "    .dataframe thead th {\n",
              "        text-align: right;\n",
              "    }\n",
              "</style>\n",
              "<table border=\"1\" class=\"dataframe\">\n",
              "  <thead>\n",
              "    <tr style=\"text-align: right;\">\n",
              "      <th>Smoking</th>\n",
              "      <th>current smoker</th>\n",
              "      <th>former smoker</th>\n",
              "      <th>never smoked</th>\n",
              "      <th>tried smoking</th>\n",
              "      <th>All</th>\n",
              "    </tr>\n",
              "    <tr>\n",
              "      <th>Alcohol</th>\n",
              "      <th></th>\n",
              "      <th></th>\n",
              "      <th></th>\n",
              "      <th></th>\n",
              "      <th></th>\n",
              "    </tr>\n",
              "  </thead>\n",
              "  <tbody>\n",
              "    <tr>\n",
              "      <th>drink a lot</th>\n",
              "      <td>0.078</td>\n",
              "      <td>0.055</td>\n",
              "      <td>0.015</td>\n",
              "      <td>0.072</td>\n",
              "      <td>0.220</td>\n",
              "    </tr>\n",
              "    <tr>\n",
              "      <th>never</th>\n",
              "      <td>0.011</td>\n",
              "      <td>0.011</td>\n",
              "      <td>0.061</td>\n",
              "      <td>0.039</td>\n",
              "      <td>0.122</td>\n",
              "    </tr>\n",
              "    <tr>\n",
              "      <th>social drinker</th>\n",
              "      <td>0.099</td>\n",
              "      <td>0.109</td>\n",
              "      <td>0.131</td>\n",
              "      <td>0.319</td>\n",
              "      <td>0.658</td>\n",
              "    </tr>\n",
              "    <tr>\n",
              "      <th>All</th>\n",
              "      <td>0.188</td>\n",
              "      <td>0.175</td>\n",
              "      <td>0.207</td>\n",
              "      <td>0.430</td>\n",
              "      <td>1.000</td>\n",
              "    </tr>\n",
              "  </tbody>\n",
              "</table>\n",
              "</div>"
            ],
            "text/plain": [
              "Smoking         current smoker  former smoker  never smoked  tried smoking  \\\n",
              "Alcohol                                                                      \n",
              "drink a lot              0.078          0.055         0.015          0.072   \n",
              "never                    0.011          0.011         0.061          0.039   \n",
              "social drinker           0.099          0.109         0.131          0.319   \n",
              "All                      0.188          0.175         0.207          0.430   \n",
              "\n",
              "Smoking           All  \n",
              "Alcohol                \n",
              "drink a lot     0.220  \n",
              "never           0.122  \n",
              "social drinker  0.658  \n",
              "All             1.000  "
            ]
          },
          "metadata": {
            "tags": []
          },
          "execution_count": 96
        }
      ]
    },
    {
      "metadata": {
        "id": "KM-zBs_kTW_7",
        "colab_type": "code",
        "colab": {
          "autoexec": {
            "startup": false,
            "wait_interval": 0
          },
          "base_uri": "https://localhost:8080/",
          "height": 68
        },
        "outputId": "19d0d190-9d62-403b-a8cd-6dab7b0e69c5",
        "executionInfo": {
          "status": "ok",
          "timestamp": 1525090180447,
          "user_tz": 180,
          "elapsed": 4857,
          "user": {
            "displayName": "Daniel Robins",
            "photoUrl": "//lh4.googleusercontent.com/-yakiBg0B4II/AAAAAAAAAAI/AAAAAAAAUPY/xui5kMqNOAI/s50-c-k-no/photo.jpg",
            "userId": "105626451647226009193"
          }
        }
      },
      "cell_type": "code",
      "source": [
        "prob_marginales_fumadores = tipo_joint_freq[\"current smoker\"][\"All\"] + tipo_joint_freq[\"tried smoking\"][\"All\"] \n",
        "prob_marginales_bebedores = tipo_joint_freq[\"All\"][\"social drinker\"] +  + tipo_joint_freq[\"All\"][\"drink a lot\"]\n",
        "prob_conjunta_fumadores_bebedores = tipo_joint_freq[\"current smoker\"][\"drink a lot\"] + tipo_joint_freq[\"tried smoking\"][\"drink a lot\"] + tipo_joint_freq[\"current smoker\"][\"social drinker\"] + tipo_joint_freq[\"tried smoking\"][\"social drinker\"] \n",
        "\n",
        "print('Prob. Marginal Fumadores:',prob_marginales_fumadores)\n",
        "print('Prob. Marginal Bebedores:',prob_marginales_bebedores)\n",
        "print('Prob. Conjunta  Fum/Beb :',prob_conjunta_fumadores_bebedores)\n",
        "\n"
      ],
      "execution_count": 87,
      "outputs": [
        {
          "output_type": "stream",
          "text": [
            "Prob. Marginal Fumadores: 0.618\n",
            "Prob. Marginal Bebedores: 0.878\n",
            "Prob. Conjunta  Fum/Beb : 0.5680000000000001\n"
          ],
          "name": "stdout"
        }
      ]
    },
    {
      "metadata": {
        "id": "9YD3YC1G9Am8",
        "colab_type": "text"
      },
      "cell_type": "markdown",
      "source": [
        "Graficando en un mapa de calor vemos la siguiente correlación:"
      ]
    },
    {
      "metadata": {
        "id": "xsZxD9IrUh0a",
        "colab_type": "code",
        "colab": {
          "autoexec": {
            "startup": false,
            "wait_interval": 0
          },
          "base_uri": "https://localhost:8080/",
          "height": 387
        },
        "outputId": "17f2d5f8-85b5-4e04-c098-6bd4441ecdc5",
        "executionInfo": {
          "status": "ok",
          "timestamp": 1525083148622,
          "user_tz": 180,
          "elapsed": 684,
          "user": {
            "displayName": "Daniel Robins",
            "photoUrl": "//lh4.googleusercontent.com/-yakiBg0B4II/AAAAAAAAAAI/AAAAAAAAUPY/xui5kMqNOAI/s50-c-k-no/photo.jpg",
            "userId": "105626451647226009193"
          }
        }
      },
      "cell_type": "code",
      "source": [
        "tipo_joint_freq_map = pandas.crosstab(index=dataset['Alcohol'], columns=dataset['Smoking'], normalize=True )\n",
        "\n",
        "plt.figure(figsize=(7,10))\n",
        "plt.title('Correlación de habitos de consumo de alcohol y tabaquismo')\n",
        "\n",
        "\n",
        "seaborn.heatmap(tipo_joint_freq_map, annot=False, cmap='coolwarm', cbar=False, square=True)\n"
      ],
      "execution_count": 28,
      "outputs": [
        {
          "output_type": "execute_result",
          "data": {
            "text/plain": [
              "<matplotlib.axes._subplots.AxesSubplot at 0x7fc7f3236358>"
            ]
          },
          "metadata": {
            "tags": []
          },
          "execution_count": 28
        },
        {
          "output_type": "display_data",
          "data": {
            "image/png": "[encoded data removed]",
            "text/plain": [
              "<matplotlib.figure.Figure at 0x7fc7f3236320>"
            ]
          },
          "metadata": {
            "tags": []
          }
        }
      ]
    },
    {
      "metadata": {
        "id": "juho8300n4Jc",
        "colab_type": "text"
      },
      "cell_type": "markdown",
      "source": [
        "La incidencia de mayor tendencia está reflejada en la relación de los bebedores sociales (social drinker) y quienes han intentado fumar (tried smoking). Es decir si estas personas no se reunen no toman, ni intentan o intentarían fumar.\n"
      ]
    },
    {
      "metadata": {
        "id": "pfI_p--UJq2w",
        "colab_type": "text"
      },
      "cell_type": "markdown",
      "source": [
        "**¿Qué pasaría con los niveles de tabaquismo si se prohíbe fumar en los bares?** \n"
      ]
    },
    {
      "metadata": {
        "id": "js_pPinjXV48",
        "colab_type": "code",
        "colab": {
          "autoexec": {
            "startup": false,
            "wait_interval": 0
          },
          "base_uri": "https://localhost:8080/",
          "height": 204
        },
        "outputId": "4c98ff36-72af-49ac-a8db-aee4e7fbffe2",
        "executionInfo": {
          "status": "ok",
          "timestamp": 1525090420666,
          "user_tz": 180,
          "elapsed": 1839,
          "user": {
            "displayName": "Fernando Palacios",
            "photoUrl": "//lh3.googleusercontent.com/-w1q4ZcmPmtY/AAAAAAAAAAI/AAAAAAAAA7o/uvuIghuG18Y/s50-c-k-no/photo.jpg",
            "userId": "117286586872748177478"
          }
        }
      },
      "cell_type": "code",
      "source": [
        "tipo_joint_freq = pandas.crosstab(index=dataset['Alcohol'].dropna(how='all'), columns=dataset['Smoking'].dropna(how='all'), margins=True, normalize=True)\n",
        "tipo_joint_freq"
      ],
      "execution_count": 127,
      "outputs": [
        {
          "output_type": "execute_result",
          "data": {
            "text/html": [
              "<div>\n",
              "<style scoped>\n",
              "    .dataframe tbody tr th:only-of-type {\n",
              "        vertical-align: middle;\n",
              "    }\n",
              "\n",
              "    .dataframe tbody tr th {\n",
              "        vertical-align: top;\n",
              "    }\n",
              "\n",
              "    .dataframe thead th {\n",
              "        text-align: right;\n",
              "    }\n",
              "</style>\n",
              "<table border=\"1\" class=\"dataframe\">\n",
              "  <thead>\n",
              "    <tr style=\"text-align: right;\">\n",
              "      <th>Smoking</th>\n",
              "      <th>current smoker</th>\n",
              "      <th>former smoker</th>\n",
              "      <th>never smoked</th>\n",
              "      <th>tried smoking</th>\n",
              "      <th>All</th>\n",
              "    </tr>\n",
              "    <tr>\n",
              "      <th>Alcohol</th>\n",
              "      <th></th>\n",
              "      <th></th>\n",
              "      <th></th>\n",
              "      <th></th>\n",
              "      <th></th>\n",
              "    </tr>\n",
              "  </thead>\n",
              "  <tbody>\n",
              "    <tr>\n",
              "      <th>drink a lot</th>\n",
              "      <td>0.078</td>\n",
              "      <td>0.055</td>\n",
              "      <td>0.015</td>\n",
              "      <td>0.072</td>\n",
              "      <td>0.220</td>\n",
              "    </tr>\n",
              "    <tr>\n",
              "      <th>never</th>\n",
              "      <td>0.011</td>\n",
              "      <td>0.011</td>\n",
              "      <td>0.061</td>\n",
              "      <td>0.039</td>\n",
              "      <td>0.122</td>\n",
              "    </tr>\n",
              "    <tr>\n",
              "      <th>social drinker</th>\n",
              "      <td>0.099</td>\n",
              "      <td>0.109</td>\n",
              "      <td>0.131</td>\n",
              "      <td>0.319</td>\n",
              "      <td>0.658</td>\n",
              "    </tr>\n",
              "    <tr>\n",
              "      <th>All</th>\n",
              "      <td>0.188</td>\n",
              "      <td>0.175</td>\n",
              "      <td>0.207</td>\n",
              "      <td>0.430</td>\n",
              "      <td>1.000</td>\n",
              "    </tr>\n",
              "  </tbody>\n",
              "</table>\n",
              "</div>"
            ],
            "text/plain": [
              "Smoking         current smoker  former smoker  never smoked  tried smoking  \\\n",
              "Alcohol                                                                      \n",
              "drink a lot              0.078          0.055         0.015          0.072   \n",
              "never                    0.011          0.011         0.061          0.039   \n",
              "social drinker           0.099          0.109         0.131          0.319   \n",
              "All                      0.188          0.175         0.207          0.430   \n",
              "\n",
              "Smoking           All  \n",
              "Alcohol                \n",
              "drink a lot     0.220  \n",
              "never           0.122  \n",
              "social drinker  0.658  \n",
              "All             1.000  "
            ]
          },
          "metadata": {
            "tags": []
          },
          "execution_count": 127
        }
      ]
    },
    {
      "metadata": {
        "id": "ezJOQyq_d7s4",
        "colab_type": "code",
        "colab": {
          "autoexec": {
            "startup": false,
            "wait_interval": 0
          },
          "base_uri": "https://localhost:8080/",
          "height": 34
        },
        "outputId": "ac2e817d-3cae-4198-eec2-4f29f9521793",
        "executionInfo": {
          "status": "ok",
          "timestamp": 1525090399793,
          "user_tz": 180,
          "elapsed": 959,
          "user": {
            "displayName": "Daniel Robins",
            "photoUrl": "//lh4.googleusercontent.com/-yakiBg0B4II/AAAAAAAAAAI/AAAAAAAAUPY/xui5kMqNOAI/s50-c-k-no/photo.jpg",
            "userId": "105626451647226009193"
          }
        }
      },
      "cell_type": "code",
      "source": [
        "# Las probabilidades marginales de fumadores es la suma de current smoker + tried smoking\n",
        "prob_marginales_fumadores = tipo_joint_freq[\"current smoker\"][\"All\"] + tipo_joint_freq[\"tried smoking\"][\"All\"] \n",
        "\n",
        "# Las probabilidades marginales de bebedores es la suma de drink a lot + social drinker\n",
        "prob_marginales_bebedores = tipo_joint_freq[\"All\"][\"social drinker\"] +  + tipo_joint_freq[\"All\"][\"drink a lot\"]\n",
        "\n",
        "prob_conjunta_fumadores_bebedores = tipo_joint_freq[\"current smoker\"][\"drink a lot\"] + tipo_joint_freq[\"tried smoking\"][\"drink a lot\"] + tipo_joint_freq[\"current smoker\"][\"social drinker\"] + tipo_joint_freq[\"tried smoking\"][\"social drinker\"] \n",
        "\n",
        "\n",
        "if (prob_marginales_bebedores*prob_marginales_bebedores) == prob_conjunta_fumadores_bebedores :\n",
        "  print (\"Es un suceso independiente, No van a disminuir los fumadores\")\n",
        "else :\n",
        "  print (\"Es un suceso dependiente, Van a disminuir los fumadores\")"
      ],
      "execution_count": 89,
      "outputs": [
        {
          "output_type": "stream",
          "text": [
            "Es un suceso dependiente, Van a disminuir los fumadores\n"
          ],
          "name": "stdout"
        }
      ]
    },
    {
      "metadata": {
        "id": "PbhERYbuFuYB",
        "colab_type": "text"
      },
      "cell_type": "markdown",
      "source": [
        "La hipótesis \"prohibición de fumar en los bares bajaría los niveles de tabaquismo\" no es del todo cierta ya que hay casos como el de Córdoba que luego de prohibir fumar en los bares aumentó el nivel de tabaquismo Ver (http://www.lavoz.com.ar/ciudadanos/tres-de-cada-10-cordobeses-fuman): \"Lejos de esa información oficial, las mediciones de Delfos en la ciudad de Córdoba indican que en 2006 fumaba el 32 por ciento de la población, mientras que este año lo hace el 34 por ciento. Esos datos corresponden a la muestra de 700 casos de la Capital.\"\n"
      ]
    },
    {
      "metadata": {
        "id": "kz1Xg3pSFkLB",
        "colab_type": "text"
      },
      "cell_type": "markdown",
      "source": [
        "**¿Qué pasaría con la cantidad de consumidores de alcohol si disminuye la cantidad de fumadores que consumen alcohol?**"
      ]
    },
    {
      "metadata": {
        "id": "MYNpezuNIpNe",
        "colab_type": "code",
        "colab": {
          "autoexec": {
            "startup": false,
            "wait_interval": 0
          },
          "base_uri": "https://localhost:8080/",
          "height": 204
        },
        "outputId": "35588b9b-2517-4d4a-ce7d-90bc4d71b832",
        "executionInfo": {
          "status": "ok",
          "timestamp": 1525090292334,
          "user_tz": 180,
          "elapsed": 759,
          "user": {
            "displayName": "Daniel Robins",
            "photoUrl": "//lh4.googleusercontent.com/-yakiBg0B4II/AAAAAAAAAAI/AAAAAAAAUPY/xui5kMqNOAI/s50-c-k-no/photo.jpg",
            "userId": "105626451647226009193"
          }
        }
      },
      "cell_type": "code",
      "source": [
        "tipo_joint_freq = pandas.crosstab(index=dataset['Alcohol'].dropna(how='all'), columns=dataset['Smoking'].dropna(how='all'), margins=True, normalize=True)\n",
        "\n",
        "tipo_joint_freq \n"
      ],
      "execution_count": 88,
      "outputs": [
        {
          "output_type": "execute_result",
          "data": {
            "text/html": [
              "<div>\n",
              "<style scoped>\n",
              "    .dataframe tbody tr th:only-of-type {\n",
              "        vertical-align: middle;\n",
              "    }\n",
              "\n",
              "    .dataframe tbody tr th {\n",
              "        vertical-align: top;\n",
              "    }\n",
              "\n",
              "    .dataframe thead th {\n",
              "        text-align: right;\n",
              "    }\n",
              "</style>\n",
              "<table border=\"1\" class=\"dataframe\">\n",
              "  <thead>\n",
              "    <tr style=\"text-align: right;\">\n",
              "      <th>Smoking</th>\n",
              "      <th>current smoker</th>\n",
              "      <th>former smoker</th>\n",
              "      <th>never smoked</th>\n",
              "      <th>tried smoking</th>\n",
              "      <th>All</th>\n",
              "    </tr>\n",
              "    <tr>\n",
              "      <th>Alcohol</th>\n",
              "      <th></th>\n",
              "      <th></th>\n",
              "      <th></th>\n",
              "      <th></th>\n",
              "      <th></th>\n",
              "    </tr>\n",
              "  </thead>\n",
              "  <tbody>\n",
              "    <tr>\n",
              "      <th>drink a lot</th>\n",
              "      <td>0.078</td>\n",
              "      <td>0.055</td>\n",
              "      <td>0.015</td>\n",
              "      <td>0.072</td>\n",
              "      <td>0.220</td>\n",
              "    </tr>\n",
              "    <tr>\n",
              "      <th>never</th>\n",
              "      <td>0.011</td>\n",
              "      <td>0.011</td>\n",
              "      <td>0.061</td>\n",
              "      <td>0.039</td>\n",
              "      <td>0.122</td>\n",
              "    </tr>\n",
              "    <tr>\n",
              "      <th>social drinker</th>\n",
              "      <td>0.099</td>\n",
              "      <td>0.109</td>\n",
              "      <td>0.131</td>\n",
              "      <td>0.319</td>\n",
              "      <td>0.658</td>\n",
              "    </tr>\n",
              "    <tr>\n",
              "      <th>All</th>\n",
              "      <td>0.188</td>\n",
              "      <td>0.175</td>\n",
              "      <td>0.207</td>\n",
              "      <td>0.430</td>\n",
              "      <td>1.000</td>\n",
              "    </tr>\n",
              "  </tbody>\n",
              "</table>\n",
              "</div>"
            ],
            "text/plain": [
              "Smoking         current smoker  former smoker  never smoked  tried smoking  \\\n",
              "Alcohol                                                                      \n",
              "drink a lot              0.078          0.055         0.015          0.072   \n",
              "never                    0.011          0.011         0.061          0.039   \n",
              "social drinker           0.099          0.109         0.131          0.319   \n",
              "All                      0.188          0.175         0.207          0.430   \n",
              "\n",
              "Smoking           All  \n",
              "Alcohol                \n",
              "drink a lot     0.220  \n",
              "never           0.122  \n",
              "social drinker  0.658  \n",
              "All             1.000  "
            ]
          },
          "metadata": {
            "tags": []
          },
          "execution_count": 88
        }
      ]
    },
    {
      "metadata": {
        "id": "v4QtI-fkIpie",
        "colab_type": "code",
        "colab": {
          "autoexec": {
            "startup": false,
            "wait_interval": 0
          },
          "base_uri": "https://localhost:8080/",
          "height": 34
        },
        "outputId": "8b425913-7501-4a6a-8f47-6d01265650a2",
        "executionInfo": {
          "status": "ok",
          "timestamp": 1525090137780,
          "user_tz": 180,
          "elapsed": 1417,
          "user": {
            "displayName": "Fernando Palacios",
            "photoUrl": "//lh3.googleusercontent.com/-w1q4ZcmPmtY/AAAAAAAAAAI/AAAAAAAAA7o/uvuIghuG18Y/s50-c-k-no/photo.jpg",
            "userId": "117286586872748177478"
          }
        }
      },
      "cell_type": "code",
      "source": [
        "# Las probabilidades marginales de fumadores es la suma de current smoker + tried smoking\n",
        "prob_marginales_fumadores = tipo_joint_freq[\"current smoker\"][\"All\"] + tipo_joint_freq[\"tried smoking\"][\"All\"] \n",
        "\n",
        "# Las probabilidades marginales de bebedores es la suma de drink a lot + social drinker\n",
        "prob_marginales_bebedores = tipo_joint_freq[\"All\"][\"social drinker\"] +  + tipo_joint_freq[\"All\"][\"drink a lot\"]\n",
        "\n",
        "prob_conjunta_fumadores_bebedores = tipo_joint_freq[\"current smoker\"][\"drink a lot\"] + tipo_joint_freq[\"tried smoking\"][\"drink a lot\"] + tipo_joint_freq[\"current smoker\"][\"social drinker\"] + tipo_joint_freq[\"tried smoking\"][\"social drinker\"] \n",
        "\n",
        "\n",
        "if (prob_marginales_bebedores*prob_marginales_bebedores) == prob_conjunta_fumadores_bebedores :\n",
        "  print (\"Es un suceso independiente, No van a disminuir los conusmidores de alcohol\")\n",
        "else :\n",
        "  print (\"Es un suceso dependiente, Van a disminuir los consumidores de alcohol\")"
      ],
      "execution_count": 124,
      "outputs": [
        {
          "output_type": "stream",
          "text": [
            "Es un suceso dependiente, Van a disminuir los consumidores de alcohol\n"
          ],
          "name": "stdout"
        }
      ]
    }
  ]
}