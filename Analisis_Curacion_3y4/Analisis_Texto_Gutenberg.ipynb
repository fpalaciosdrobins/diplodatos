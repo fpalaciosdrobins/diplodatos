{
 "cells": [
  {
   "cell_type": "code",
   "execution_count": 34,
   "metadata": {},
   "outputs": [],
   "source": [
    "# Importando las librerías que vamos a utilizar\n",
    "import pandas as pd\n",
    "import numpy as np \n",
    "import matplotlib.pyplot as plt \n",
    "import textacy\n",
    "from textacy.datasets import Wikipedia\n",
    "from collections import Counter, defaultdict\n",
    "import warnings; warnings.simplefilter('ignore')\n",
    "import spacy\n",
    "\n",
    "# graficos incrustados\n",
    "%matplotlib inline\n",
    "\n",
    "# función auxiliar\n",
    "def leer_texto(texto):\n",
    "    \"\"\"Funcion auxiliar para leer un archivo de texto\"\"\"\n",
    "    with open(texto, 'r') as text:\n",
    "        return text.read()"
   ]
  },
  {
   "cell_type": "code",
   "execution_count": 35,
   "metadata": {
    "scrolled": true
   },
   "outputs": [],
   "source": [
    "# Cargando el modelo en español de spacy\n",
    "nlp = textacy.data.spacy.load('es_core_web_md')\n",
    "#nlp = spacy.load('es_core_news_sm')\n"
   ]
  },
  {
   "cell_type": "markdown",
   "metadata": {},
   "source": [
    "# Análisis del libro La transformación de las Razas en América\n",
    "Proyecto Gutemberg http://www.gutenberg.org/ebooks/26947"
   ]
  },
  {
   "cell_type": "code",
   "execution_count": 36,
   "metadata": {},
   "outputs": [],
   "source": [
    "# Limpiar preludio y licencia de Project Gutenberg\n",
    "\n",
    "path_texto = '/home/drobins/diplodatos/datasets/pg26947.txt'\n",
    "texto = ''\n",
    "name = 'LAS RAZAS EN AMÉRICA'\n",
    "start =  '*** START OF THIS PROJECT GUTENBERG EBOOK '+ name +' ***\\n'\n",
    "stop = '*** END OF THIS PROJECT GUTENBERG EBOOK '+ name +' ***\\n'\n",
    "\n",
    "with open(path_texto) as fp:\n",
    "    for line in iter(fp.readline, start):\n",
    "        pass\n",
    "    for line in iter(fp.readline, stop):\n",
    "        texto += line\n",
    "texto_procesado = nlp(texto)"
   ]
  },
  {
   "cell_type": "code",
   "execution_count": 37,
   "metadata": {},
   "outputs": [
    {
     "data": {
      "text/plain": [
       "{'n_sents': 1199,\n",
       " 'n_words': 45649,\n",
       " 'n_chars': 224808,\n",
       " 'n_syllables': 89630,\n",
       " 'n_unique_words': 8694,\n",
       " 'n_long_words': 13851,\n",
       " 'n_monosyllable_words': 22733,\n",
       " 'n_polysyllable_words': 13210}"
      ]
     },
     "execution_count": 37,
     "metadata": {},
     "output_type": "execute_result"
    }
   ],
   "source": [
    "# Estadísticas del texto\n",
    "ts = textacy.TextStats(texto_procesado)\n",
    "ts.basic_counts"
   ]
  },
  {
   "cell_type": "code",
   "execution_count": 38,
   "metadata": {},
   "outputs": [
    {
     "data": {
      "text/plain": [
       "[('y', 1878),\n",
       " ('a', 917),\n",
       " ('o', 275),\n",
       " ('vida', 132),\n",
       " ('mundo', 97),\n",
       " ('hombre', 94),\n",
       " ('Y', 93),\n",
       " ('humana', 89),\n",
       " ('espíritu', 86),\n",
       " ('Dios', 81)]"
      ]
     },
     "execution_count": 38,
     "metadata": {},
     "output_type": "execute_result"
    }
   ],
   "source": [
    "doc = textacy.Doc(texto_procesado)\n",
    "bot = doc.to_bag_of_words(normalize=True,as_strings=True,weighting='count')\n",
    "sorted(bot.items(), key=lambda x: x[1], reverse=True)[:10]\n"
   ]
  },
  {
   "cell_type": "code",
   "execution_count": 39,
   "metadata": {},
   "outputs": [
    {
     "data": {
      "text/plain": [
       "[('vida', 134),\n",
       " ('mundo', 98),\n",
       " ('hombre', 96),\n",
       " ('dios', 89),\n",
       " ('humana', 89),\n",
       " ('espíritu', 88),\n",
       " ('hombres', 80),\n",
       " ('moral', 58),\n",
       " ('civilización', 57),\n",
       " ('siglo', 52)]"
      ]
     },
     "execution_count": 39,
     "metadata": {},
     "output_type": "execute_result"
    }
   ],
   "source": [
    "stop = list(textacy.data.spacy.es.STOP_WORDS)\n",
    "stop.append('y')\n",
    "stop.append('a')\n",
    "stop.append('o')\n",
    "\n",
    "palabras = list(textacy.extract.words(doc, filter_stops=True, filter_punct=True, filter_nums=False, include_pos=None, exclude_pos=None, min_freq=1))\n",
    "\n",
    "contar_palabras = Counter()\n",
    "for word in palabras:\n",
    "    if word.string.strip().lower() not in stop:\n",
    "       contar_palabras[word.string.strip().lower()] += 1\n",
    "\n",
    "contar_palabras.most_common(10)    \n",
    "    \n"
   ]
  },
  {
   "cell_type": "code",
   "execution_count": 40,
   "metadata": {},
   "outputs": [],
   "source": [
    "def encontrar_personajes(doc):\n",
    "    \"\"\"\n",
    "    Devuelve una lista de los personajes de un `doc` con su cantidad de\n",
    "    ocurrencias\n",
    "    \n",
    "    :param doc: NLP documento parseado por Spacy\n",
    "    :return: Lista de Tuplas con la forma\n",
    "        [('winston', 686), (\"o'brien\", 135), ('julia', 85),]\n",
    "    \"\"\"\n",
    "    \n",
    "    personajes = Counter()\n",
    "    for ent in doc.ents:\n",
    "        if ent.label_ == 'PERSON':\n",
    "            personajes[ent.lemma_] += 1\n",
    "            \n",
    "    return personajes.most_common()"
   ]
  },
  {
   "cell_type": "code",
   "execution_count": 41,
   "metadata": {},
   "outputs": [
    {
     "data": {
      "text/plain": [
       "[('', 29),\n",
       " ('álvarez', 14),\n",
       " ('dios', 14),\n",
       " ('emerson', 9),\n",
       " ('agustín álvarez', 7),\n",
       " ('sarmiento', 7),\n",
       " ('renan', 6),\n",
       " ('hubbard', 6),\n",
       " ('alberdi', 5),\n",
       " ('constantino', 5),\n",
       " ('iglesia', 5),\n",
       " ('jesús', 4),\n",
       " ('mahoma', 4),\n",
       " ('rosas', 4),\n",
       " ('robertson', 4),\n",
       " ('voltaire', 3),\n",
       " ('cristo', 3),\n",
       " ('fiske', 3),\n",
       " ('según', 2),\n",
       " ('jaurés', 2),\n",
       " ('taine', 2),\n",
       " ('grant allen', 2),\n",
       " ('lourdes', 2),\n",
       " ('a. france', 2),\n",
       " ('moisés', 2),\n",
       " ('san \\n pablo', 2),\n",
       " ('satán', 2),\n",
       " ('polibio', 2),\n",
       " ('maeterlinck', 2),\n",
       " ('confucio', 2),\n",
       " ('epicteto', 2),\n",
       " ('marco aurelio', 2),\n",
       " ('napoleón', 2),\n",
       " ('aristóteles', 2),\n",
       " ('césar', 2),\n",
       " ('galileo', 2),\n",
       " ('vélez sársfield', 2),\n",
       " ('mendoza', 1),\n",
       " ('educación moral', 1),\n",
       " ('agustín álvarez_.', 1),\n",
       " ('miral', 1),\n",
       " ('benavente', 1),\n",
       " ('ameghino', 1),\n",
       " ('darwin', 1),\n",
       " ('esquiú', 1),\n",
       " ('compréndese', 1),\n",
       " ('alicia \\n moreau', 1),\n",
       " ('eticista', 1),\n",
       " ('m. bergeret', 1),\n",
       " ('miguel de unamuno', 1),\n",
       " ('joaquín \\n v. gonzález', 1),\n",
       " ('ingenieros', 1),\n",
       " ('máximo victoria', 1),\n",
       " ('horo', 1),\n",
       " ('dionisios', 1),\n",
       " ('febo apollo', 1),\n",
       " ('jehová', 1),\n",
       " ('san antonio', 1),\n",
       " ('mitre', 1),\n",
       " ('michelet', 1),\n",
       " ('esfinge', 1),\n",
       " ('júpiter', 1),\n",
       " ('minerva', 1),\n",
       " ('mitra', 1),\n",
       " ('maría', 1),\n",
       " ('_', 1),\n",
       " ('neso', 1),\n",
       " ('japón', 1),\n",
       " ('cotter morison', 1),\n",
       " ('diocleciano', 1),\n",
       " ('buckle', 1),\n",
       " ('uno', 1),\n",
       " ('séneca', 1),\n",
       " ('el milagro', 1),\n",
       " ('luján', 1),\n",
       " ('john morley', 1),\n",
       " ('montesquieu', 1),\n",
       " ('diderot', 1),\n",
       " ('rousseau', 1),\n",
       " ('alejandro vi', 1),\n",
       " ('césar borgia', 1),\n",
       " ('lucrecia', 1),\n",
       " ('elisa movory bliven', 1),\n",
       " ('beccaria', 1),\n",
       " ('salomón', 1),\n",
       " ('goethe', 1),\n",
       " ('el cid', 1),\n",
       " ('san juan crisóstomo', 1),\n",
       " ('san agustín', 1),\n",
       " ('santo tomás', 1),\n",
       " ('röntgen', 1),\n",
       " ('marconi', 1),\n",
       " ('ambrosio', 1),\n",
       " ('san \\n pedro', 1),\n",
       " ('pío ix', 1),\n",
       " ('pascal', 1),\n",
       " ('manuel ugarte', 1),\n",
       " ('spencer', 1),\n",
       " ('sir oliver lodge', 1),\n",
       " ('blas pascal', 1),\n",
       " ('h. p.', 1),\n",
       " ('inglaterra', 1),\n",
       " ('christian science', 1),\n",
       " ('mrs', 1),\n",
       " ('eddy', 1),\n",
       " ('mariano moreno', 1),\n",
       " ('león xiii', 1),\n",
       " ('sir john fortescue', 1),\n",
       " ('ihering', 1),\n",
       " ('ito', 1),\n",
       " ('cromwell', 1),\n",
       " ('fernando vii', 1),\n",
       " ('tácito', 1),\n",
       " ('juan', 1),\n",
       " ('simón de monfort', 1),\n",
       " ('loyola', 1),\n",
       " ('westminster', 1),\n",
       " ('ugarte', 1),\n",
       " ('homero', 1),\n",
       " ('euclides', 1),\n",
       " ('sócrates', 1),\n",
       " ('fídias', 1),\n",
       " ('zoroastro', 1),\n",
       " ('buda', 1),\n",
       " ('de las', 1),\n",
       " ('bacon', 1),\n",
       " ('h. spencer', 1),\n",
       " ('brooks \\n adams', 1),\n",
       " ('huxley', 1),\n",
       " ('s. \\n romualdo', 1),\n",
       " ('flagelantes', 1),\n",
       " ('disciplina eclesiástica', 1),\n",
       " ('madonna', 1),\n",
       " ('vía de', 1),\n",
       " ('young', 1),\n",
       " ('bossuet', 1),\n",
       " ('fenelón', 1),\n",
       " ('carlos x', 1),\n",
       " ('inglaterra \"', 1),\n",
       " ('stubbs', 1),\n",
       " ('siglos', 1),\n",
       " ('lutero', 1),\n",
       " ('colón', 1),\n",
       " ('copérnico', 1),\n",
       " ('kepler', 1),\n",
       " ('procusto', 1),\n",
       " ('gladstone', 1),\n",
       " ('edison', 1),\n",
       " ('guerreros', 1),\n",
       " ('carlos aldao', 1),\n",
       " ('definiéndolos', 1),\n",
       " ('swift', 1),\n",
       " ('viceversa', 1),\n",
       " ('john m. robertson', 1),\n",
       " ('freeman', 1),\n",
       " ('alejandro', 1),\n",
       " ('cediéndole', 1),\n",
       " ('brunetière', 1),\n",
       " ('abraham', 1),\n",
       " ('newton', 1),\n",
       " ('bruno', 1),\n",
       " ('juana de arco', 1),\n",
       " ('dey gloriam_.', 1),\n",
       " ('pío x', 1),\n",
       " ('mazzini', 1),\n",
       " ('beauvoir', 1),\n",
       " ('tata dios', 1),\n",
       " ('lecky', 1),\n",
       " ('montaña', 1),\n",
       " ('calvino', 1),\n",
       " ('nadir', 1),\n",
       " ('inquisición', 1),\n",
       " ('carlos ii el hechizado', 1),\n",
       " ('carmen marín', 1),\n",
       " ('santiago de', 1),\n",
       " ('córdoba', 1),\n",
       " ('lópez', 1),\n",
       " ('dionisio', 1),\n",
       " ('satanás', 1),\n",
       " ('buenos aires', 1),\n",
       " ('roberto suárez', 1),\n",
       " ('julio costa', 1),\n",
       " ('martín garcía mérou', 1),\n",
       " ('joaquín v. gonzález', 1),\n",
       " ('juan álvarez', 1)]"
      ]
     },
     "execution_count": 41,
     "metadata": {},
     "output_type": "execute_result"
    }
   ],
   "source": [
    "encontrar_personajes(texto_procesado)"
   ]
  },
  {
   "cell_type": "markdown",
   "metadata": {},
   "source": [
    "## Análisis propio \n",
    "Queremos buscar las diferentes organizaciones sobre las cuales habla el libro y analizar el texto de la más representativa"
   ]
  },
  {
   "cell_type": "code",
   "execution_count": 42,
   "metadata": {},
   "outputs": [
    {
     "data": {
      "text/plain": [
       "{'ADJ',\n",
       " 'ADP',\n",
       " 'ADV',\n",
       " 'AUX',\n",
       " 'CONJ',\n",
       " 'DET',\n",
       " 'INTJ',\n",
       " 'NOUN',\n",
       " 'NUM',\n",
       " 'PART',\n",
       " 'PRON',\n",
       " 'PROPN',\n",
       " 'PUNCT',\n",
       " 'SCONJ',\n",
       " 'SPACE',\n",
       " 'SYM',\n",
       " 'VERB'}"
      ]
     },
     "execution_count": 42,
     "metadata": {},
     "output_type": "execute_result"
    }
   ],
   "source": [
    "# Etiquetas del texto\n",
    "set(token.pos_ for token in texto_procesado)"
   ]
  },
  {
   "cell_type": "markdown",
   "metadata": {},
   "source": [
    "### Encontrar las organizaciones sobre las cuales habla el libro"
   ]
  },
  {
   "cell_type": "code",
   "execution_count": 43,
   "metadata": {},
   "outputs": [
    {
     "name": "stdout",
     "output_type": "stream",
     "text": [
      "[('iglesia', 26), ('', 14), ('europa', 3), ('syllabus', 2), ('produced by chuck greif', 1), ('mayo 638', 1), ('consejo supremo de guerra', 1), ('advertencia de la', 1), ('arturo e. de la mota', 1), ('de la', 1), ('el alfarero y', 1), ('la iglesia', 1), ('alemania del norte', 1), ('universidad de chuquisaca', 1), ('inquisición española', 1), ('_ trivium _', 1), ('iglesia cristiana', 1), ('grecia', 1), ('palestina', 1), ('inquisición', 1)]\n"
     ]
    }
   ],
   "source": [
    "# Entidades nombradas de tipo ORG\n",
    "[ent for ent in texto_procesado.ents if ent.label_ == 'ORG']\n",
    "def encontrar_entidades(doc,strTipo):\n",
    "   \"\"\"\n",
    "   Devuelve una lista de los entidades de un `doc` con su cantidad de\n",
    "   ocurrencias\n",
    "   \n",
    "   :param doc: NLP documento parseado por Spacy\n",
    "   :return: Lista de Tuplas con la forma\n",
    "       [('winston', 686), (\"o'brien\", 135), ('julia', 85),]\n",
    "   \"\"\"\n",
    "   \n",
    "   entidades = Counter()\n",
    "   for ent in doc.ents:\n",
    "       if ent.label_ == strTipo:\n",
    "           entidades[ent.lemma_] += 1\n",
    "           \n",
    "   return entidades.most_common()\n",
    "print(encontrar_entidades(texto_procesado,'ORG')[:20])"
   ]
  },
  {
   "cell_type": "markdown",
   "metadata": {},
   "source": [
    "### Leer el texto donde habla de la iglesia"
   ]
  },
  {
   "cell_type": "code",
   "execution_count": 25,
   "metadata": {},
   "outputs": [
    {
     "data": {
      "text/plain": [
       "[Impidiendo o prohibiendo la cultura intelectual y la tolerancia, que es\n",
       " la cultura moral, las iglesias cristianas que llevaban en sí el cielo y\n",
       " el infierno, la civilización y la barbarie, suprimieron las\n",
       " posibilidades mentales para las partes superiores de sus propias\n",
       " doctrinas, y éstas quedaron incomprendidas, en letra muerta, mientras\n",
       " eran letra viva las partes inferiores durante los diez siglos de la era\n",
       " precientífica, en los que la civilización cristiana, con infierno y\n",
       " diablos, brujas, duendes, hechicheros y magos, íncubos, sucubos, silfos,\n",
       " gnomos, etc. con servidumbre, esclavitud y torturas, no se distinguía de\n",
       " la judía o la musulmana sino por su mayor ferocidad.\n",
       " , En la primera forma, \"el santo terror del infierno\" cubrió de iglesias,\n",
       " conventos y ermitas el Asia Menor, el Egipto y la Europa; en la segunda,\n",
       " originó las cruzadas y las órdenes de caballería religiosa, engendró la\n",
       " Inquisición y los Jesuitas; en fin, suscitó las guerras intercristianas,\n",
       " en las que los perseguidos por los mismos demonios, se perseguían a\n",
       " matarse, por su fe en diferentes preservativos, marcando el momento en\n",
       " que la imbecilidad religiosa llega al clímax en el cristianismo: porque\n",
       " éste se ha reducido al mínimum y el diabolismo ha llegado al máximum.\n",
       " , Las grandes catástrofes por disparadas locas en los teatros, en las\n",
       " iglesias, en los naufragios, son casos de ferocidad repentina y\n",
       " fulminante originada por el terror pánico de que proviene también\n",
       " seguramente, la mayor parte de los homicidios., Bajo las patas del caballo de un ángel, que lo atraviesa con su lanza,\n",
       " en el centro de la iglesia de Villa del Pilar, en el Paraguay, he visto\n",
       " a un diablo en forma de lagarto, con alas de murciélago, sembradas de\n",
       " púas, enormes ojazos de buho y garras con uñas de buitre, y he pensado\n",
       " con pena en las pesadillas diurnas y en las noches de insomnio que la\n",
       " vista de semejante monstruo sobrenatural debe producir a los\n",
       " desventurados niños del pueblo.\n",
       " , Se comprende entonces que Francia, el discípulo de los jesuítas de\n",
       " Córdoba, y los López, discípulos de Francia, pudieran esgrimir con tan\n",
       " completa eficacia el terror político sobre una población moralmente\n",
       " deprimida por el terror religioso; así se entiende la profunda\n",
       " diferencia entre la política de la América del Sur, en la que las\n",
       " matanzas y las proscripciones fueron el principal instrumento de\n",
       " gobierno, y la política de la América del Norte, donde jamás se le\n",
       " ocurrió a ningún caudillo acudir a la intimidación de sus conciudadanos\n",
       " para subyugarlos o labrarse prestigios, porque 200 años antes había sido\n",
       " atenuada por bill de tolerancia la dieta de horrores infernales con que\n",
       " las iglesias cristianas alimentaban a los predestinados para el cielo.\n",
       " ]"
      ]
     },
     "execution_count": 25,
     "metadata": {},
     "output_type": "execute_result"
    }
   ],
   "source": [
    "# sentencias con las que aparece el Gran Hermano\n",
    "[sent for sent in texto_procesado.sents if 'iglesia' in sent.string][-5:]\n"
   ]
  },
  {
   "cell_type": "markdown",
   "metadata": {},
   "source": [
    "### Adjetivos para la iglesia"
   ]
  },
  {
   "cell_type": "code",
   "execution_count": 31,
   "metadata": {},
   "outputs": [],
   "source": [
    "def obtener_adj_org(doc, organizacion):\n",
    "    \"\"\"\n",
    "    Encontrar todos los adjetivos relacionados a un personaje en un `doc`\n",
    "    \n",
    "    :param doc: NLP documento parseado por Spacy\n",
    "    :param personaje: un objeto String \n",
    "    :return: lista de adjetivos relacionados a un `personaje`\n",
    "    \"\"\"\n",
    "    \n",
    "    adjetivos = []\n",
    "    for ent in doc.ents:\n",
    "        if ent.lemma_ == organizacion:\n",
    "            for token in ent.subtree:\n",
    "                if token.pos_ == 'ADJ':\n",
    "                    adjetivos.append(token.lemma_)\n",
    "    \n",
    "    for ent in doc.ents:\n",
    "        if ent.lemma_ == organizacion:\n",
    "            if ent.root.dep_ == 'nsubj':\n",
    "                for child in ent.root.head.children:\n",
    "                    if child.dep_ == 'acomp':\n",
    "                        adjetivos.append(child.lemma_)\n",
    "    \n",
    "    return adjetivos"
   ]
  },
  {
   "cell_type": "code",
   "execution_count": 33,
   "metadata": {},
   "outputs": [
    {
     "data": {
      "text/plain": [
       "['omnipotente', 'divina', 'sagradas', 'humana', 'libre']"
      ]
     },
     "execution_count": 33,
     "metadata": {},
     "output_type": "execute_result"
    }
   ],
   "source": [
    "obtener_adj_org(texto_procesado, 'iglesia')\n"
   ]
  }
 ],
 "metadata": {
  "anaconda-cloud": {},
  "kernelspec": {
   "display_name": "Python [conda env:diplodatos-ayv]",
   "language": "python",
   "name": "conda-env-diplodatos-ayv-py"
  },
  "language_info": {
   "codemirror_mode": {
    "name": "ipython",
    "version": 3
   },
   "file_extension": ".py",
   "mimetype": "text/x-python",
   "name": "python",
   "nbconvert_exporter": "python",
   "pygments_lexer": "ipython3",
   "version": "3.6.5"
  }
 },
 "nbformat": 4,
 "nbformat_minor": 2
}
