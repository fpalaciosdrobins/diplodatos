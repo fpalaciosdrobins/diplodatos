{
 "cells": [
  {
   "cell_type": "code",
   "execution_count": 1,
   "metadata": {},
   "outputs": [],
   "source": [
    "import numpy as np \n",
    "import matplotlib.pyplot as plt "
   ]
  },
  {
   "cell_type": "code",
   "execution_count": 2,
   "metadata": {},
   "outputs": [
    {
     "name": "stdout",
     "output_type": "stream",
     "text": [
      "[[0, 0, 1, 0, 0, 0], [0, 0, 0, 1, 0, 0], [0, 0, 0, 1, 1, 0], [0, 0, 0, 0, 0, 1], [0, 0, 0, 0, 0, 1], [0, 0, 0, 0, 0, 0]]\n"
     ]
    }
   ],
   "source": [
    "### Matriz de Adyacencia\n",
    "\n",
    "edgeList = [ [0, 2], [1, 3], [2, 3],[2, 4], [3, 5], [4, 5] ];\n",
    "\n",
    "nodos=np.asarray(edgeList)\n",
    "\n",
    "max=nodos.max()\n",
    "max=max+1\n",
    "\n",
    "Matrix = [[0 for x in range(max)] for y in range(max)] \n",
    "\n",
    "for i in range (0,len(nodos)):\n",
    "    x=nodos[i,0]\n",
    "    y=nodos[i,1]\n",
    "    Matrix[x][y]=1\n",
    "\n",
    "print(Matrix)"
   ]
  },
  {
   "cell_type": "code",
   "execution_count": 3,
   "metadata": {},
   "outputs": [
    {
     "name": "stdout",
     "output_type": "stream",
     "text": [
      "[[0, 2], [1, 3], [2, 3, 4], [3, 5], [4, 5]]\n"
     ]
    }
   ],
   "source": [
    "### Lista de Adyacencia\n",
    "\n",
    "edgeList = [ [0, 2], [1, 3], [2, 3],[2, 4], [3, 5], [4, 5]] ;\n",
    "\n",
    "nodos=np.asarray(edgeList)\n",
    "Matrix=[]\n",
    "\n",
    "for i in range(0,len(nodos)):\n",
    "    \n",
    "    try:\n",
    "        posicion=[row[0] for row in Matrix].index(nodos[i,0])\n",
    "        Matrix[posicion].append(nodos[i,1])\n",
    "    except:\n",
    "        Matrix.append([nodos[i,0],nodos[i,1]])\n",
    "        \n",
    "    \n",
    "print(Matrix)"
   ]
  },
  {
   "cell_type": "code",
   "execution_count": null,
   "metadata": {},
   "outputs": [],
   "source": []
  }
 ],
 "metadata": {
  "kernelspec": {
   "display_name": "Python [conda env:diplodatos-ayv]",
   "language": "python",
   "name": "conda-env-diplodatos-ayv-py"
  },
  "language_info": {
   "codemirror_mode": {
    "name": "ipython",
    "version": 3
   },
   "file_extension": ".py",
   "mimetype": "text/x-python",
   "name": "python",
   "nbconvert_exporter": "python",
   "pygments_lexer": "ipython3",
   "version": "3.5.5"
  }
 },
 "nbformat": 4,
 "nbformat_minor": 2
}
